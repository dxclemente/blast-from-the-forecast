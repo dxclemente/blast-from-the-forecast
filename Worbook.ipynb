{
 "cells": [
  {
   "cell_type": "markdown",
   "id": "dd73a5ec-315a-4faf-a106-0e26eb48e255",
   "metadata": {
    "tags": []
   },
   "source": [
    "import pandas as pd\n",
    "import numpy as np\n",
    "import matplotlib.pyplot as plt\n",
    "import seaborn as sns\n",
    "import os\n",
    "from sqlalchemy import create_engine\n",
    "from dotenv import load_dotenv"
   ]
  },
  {
   "cell_type": "code",
   "execution_count": 36,
   "id": "284c5c2b-c74b-4132-b5b7-99cc63524808",
   "metadata": {},
   "outputs": [],
   "source": [
    "# Set postgres credentials\n",
    "\n",
    "load_dotenv()\n",
    "user = os.getenv('DB_USER')\n",
    "password = os.getenv('DB_PASSWORD')\n",
    "host = os.getenv('DB_HOST')\n",
    "port = os.getenv('DB_PORT')\n",
    "db = os.getenv('DB')"
   ]
  },
  {
   "cell_type": "code",
   "execution_count": 37,
   "id": "c24f5686-e041-45eb-87ed-77e50e733163",
   "metadata": {},
   "outputs": [],
   "source": [
    "# A long string that contains the necessary Postgres login information\n",
    "postgres_str = ('postgresql://{username}:{password}@{ipaddress}:{port}/{dbname}'\n",
    "                .format(username=user,\n",
    "                        password=password,\n",
    "                        ipaddress=host,\n",
    "                        port=port,\n",
    "                        dbname=db))\n",
    "cnx = create_engine(postgres_str)"
   ]
  },
  {
   "cell_type": "code",
   "execution_count": 41,
   "id": "0e4b1f44-eb41-4a23-97c9-3c08a1c88123",
   "metadata": {},
   "outputs": [],
   "source": [
    "# Load datasets\n",
    "shops_df = pd.read_sql_query('''SELECT * FROM shops;''', cnx)\n",
    "item_categories_df = pd.read_sql_query('''SELECT * FROM item_categories;''', cnx)\n",
    "test_df = pd.read_sql_query('''SELECT * FROM test;''', cnx)\n",
    "sales_train_df = pd.read_sql_query('''SELECT * FROM sales_train;''', cnx)\n",
    "items = pd.read_sql_query('''SELECT * FROM items;''', cnx)"
   ]
  }
 ],
 "metadata": {
  "kernelspec": {
   "display_name": "Python 3 (ipykernel)",
   "language": "python",
   "name": "python3"
  },
  "language_info": {
   "codemirror_mode": {
    "name": "ipython",
    "version": 3
   },
   "file_extension": ".py",
   "mimetype": "text/x-python",
   "name": "python",
   "nbconvert_exporter": "python",
   "pygments_lexer": "ipython3",
   "version": "3.8.12"
  }
 },
 "nbformat": 4,
 "nbformat_minor": 5
}
