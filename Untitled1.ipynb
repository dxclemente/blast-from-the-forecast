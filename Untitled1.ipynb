{
 "cells": [
  {
   "cell_type": "code",
   "execution_count": 3,
   "id": "6e8d2ba1",
   "metadata": {},
   "outputs": [],
   "source": [
    "import os\n",
    "from dotenv import load_dotenv, find_dotenv"
   ]
  },
  {
   "cell_type": "code",
   "execution_count": 7,
   "id": "9ef3206c",
   "metadata": {},
   "outputs": [
    {
     "name": "stdout",
     "output_type": "stream",
     "text": [
      "jkh45k3j4h5k34j\n"
     ]
    }
   ],
   "source": [
    "load_dotenv()\n",
    "\n",
    "test_var = os.getenv(\"TEST_VAR\")\n",
    "\n",
    "print(test_var)"
   ]
  },
  {
   "cell_type": "code",
   "execution_count": null,
   "id": "13b8dbbe",
   "metadata": {},
   "outputs": [],
   "source": []
  },
  {
   "cell_type": "code",
   "execution_count": null,
   "id": "7ff01f7d",
   "metadata": {},
   "outputs": [],
   "source": [
    "import os\n",
    "from dotenv import load_dotenv\n",
    "\n",
    "# Get the path to the directory this file is in\n",
    "BASEDIR = os.path.abspath(os.path.dirname(__file__))\n",
    "\n",
    "# Connect the path with your '.env' file name\n",
    "load_dotenv(os.path.join(BASEDIR, '.env'))\n",
    "\n",
    "test_var = os.getenv(\"TEST_VAR\")\n",
    "\n",
    "print(test_var)"
   ]
  },
  {
   "cell_type": "code",
   "execution_count": null,
   "id": "6d4ca321",
   "metadata": {},
   "outputs": [],
   "source": [
    "!pwd"
   ]
  },
  {
   "cell_type": "code",
   "execution_count": null,
   "id": "87fbd9b4",
   "metadata": {},
   "outputs": [],
   "source": [
    "find_dotenv()"
   ]
  },
  {
   "cell_type": "code",
   "execution_count": 8,
   "id": "1966d88d",
   "metadata": {},
   "outputs": [],
   "source": [
    "#load_dotenv(find_dotenv(), verbose=True)\n",
    "user = os.getenv('DDB_USER')\n",
    "password = os.getenv('DDB_PASSWORD')\n",
    "host = os.getenv('DDB_HOST')\n",
    "port = os.getenv('DDB_PORT')\n",
    "db = os.getenv('DDB')"
   ]
  },
  {
   "cell_type": "code",
   "execution_count": 9,
   "id": "640f241c",
   "metadata": {},
   "outputs": [
    {
     "name": "stdout",
     "output_type": "stream",
     "text": [
      "postgres\n"
     ]
    }
   ],
   "source": [
    "print(user)"
   ]
  },
  {
   "cell_type": "code",
   "execution_count": null,
   "id": "cb9cebf0",
   "metadata": {},
   "outputs": [],
   "source": []
  }
 ],
 "metadata": {
  "kernelspec": {
   "display_name": "Python 3 (ipykernel)",
   "language": "python",
   "name": "python3"
  },
  "language_info": {
   "codemirror_mode": {
    "name": "ipython",
    "version": 3
   },
   "file_extension": ".py",
   "mimetype": "text/x-python",
   "name": "python",
   "nbconvert_exporter": "python",
   "pygments_lexer": "ipython3",
   "version": "3.10.6"
  },
  "toc": {
   "base_numbering": 1,
   "nav_menu": {},
   "number_sections": true,
   "sideBar": true,
   "skip_h1_title": false,
   "title_cell": "Table of Contents",
   "title_sidebar": "Contents",
   "toc_cell": false,
   "toc_position": {},
   "toc_section_display": true,
   "toc_window_display": false
  }
 },
 "nbformat": 4,
 "nbformat_minor": 5
}
