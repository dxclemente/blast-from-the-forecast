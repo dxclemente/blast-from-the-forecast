{
 "cells": [
  {
   "cell_type": "markdown",
   "id": "7367d8e6-5195-4558-925e-25b622871639",
   "metadata": {
    "tags": []
   },
   "source": [
    "## Load Packages"
   ]
  },
  {
   "cell_type": "code",
   "execution_count": 1,
   "id": "b89e958d-f5a5-41ec-97fa-6cad06b4379a",
   "metadata": {
    "tags": []
   },
   "outputs": [],
   "source": [
    "import pandas as pd\n",
    "import numpy as np\n",
    "import matplotlib.pyplot as plt\n",
    "import seaborn as sns\n",
    "import os\n",
    "from sqlalchemy import create_engine\n",
    "from dotenv import load_dotenv\n",
    "import psycopg2\n",
    "from tqdm import tqdm"
   ]
  },
  {
   "cell_type": "code",
   "execution_count": 2,
   "id": "cac57f0d-b4db-4cfa-a33e-8ff9091929bb",
   "metadata": {},
   "outputs": [],
   "source": [
    "from tensorflow.keras.preprocessing.sequence import pad_sequences\n",
    "from tensorflow.keras.layers import SimpleRNN, LSTM, GRU\n",
    "from tensorflow.keras.models import Sequential\n",
    "from tensorflow.keras.layers import Masking\n",
    "from tensorflow.keras import layers"
   ]
  },
  {
   "cell_type": "markdown",
   "id": "9c3f1b96-74a9-4819-b0dd-5be8df27f6b4",
   "metadata": {
    "tags": []
   },
   "source": [
    "## Load data from Postgres"
   ]
  },
  {
   "cell_type": "code",
   "execution_count": 3,
   "id": "284c5c2b-c74b-4132-b5b7-99cc63524808",
   "metadata": {},
   "outputs": [],
   "source": [
    "# Set postgres credentials\n",
    "load_dotenv()\n",
    "user = os.getenv('DB_USER')\n",
    "password = os.getenv('DB_PASSWORD')\n",
    "host = os.getenv('DB_HOST')\n",
    "port = os.getenv('DB_PORT')\n",
    "db = os.getenv('DB')"
   ]
  },
  {
   "cell_type": "code",
   "execution_count": 4,
   "id": "c24f5686-e041-45eb-87ed-77e50e733163",
   "metadata": {},
   "outputs": [],
   "source": [
    "# A long string that contains the necessary Postgres login information\n",
    "postgres_str = ('postgresql://{username}:{password}@{ipaddress}:{port}/{dbname}'\n",
    "                .format(username=user,\n",
    "                        password=password,\n",
    "                        ipaddress=host,\n",
    "                        port=port,\n",
    "                        dbname=db))\n",
    "cnx = create_engine(postgres_str)"
   ]
  },
  {
   "cell_type": "code",
   "execution_count": 5,
   "id": "7013aac0-a8de-4f7e-958c-2c87e05e61a2",
   "metadata": {},
   "outputs": [],
   "source": [
    "# List DB tables\n",
    "conn = psycopg2.connect(postgres_str)\n",
    "cursor = conn.cursor()\n",
    "cursor.execute(\"\"\"SELECT relname FROM pg_class WHERE relkind='r'\n",
    "                  AND relname !~ '^(pg_|sql_)';\"\"\") # \"rel\" is short for relation.\n",
    "\n",
    "tables_list = [i[0] for i in cursor.fetchall()] # A list() of tables.\n",
    "#tables_list #check available tables"
   ]
  },
  {
   "cell_type": "code",
   "execution_count": 6,
   "id": "0e4b1f44-eb41-4a23-97c9-3c08a1c88123",
   "metadata": {},
   "outputs": [],
   "source": [
    "# Load datasets\n",
    "shops_df = pd.read_sql_query('''SELECT * FROM shops_en;''', cnx)\n",
    "item_categories_df = pd.read_sql_query('''SELECT * FROM item_categories_en;''', cnx)\n",
    "test_df = pd.read_sql_query('''SELECT * FROM test;''', cnx)\n",
    "sales_train_df = pd.read_sql_query('''SELECT * FROM sales_train;''', cnx)\n",
    "items_df = pd.read_sql_query('''SELECT * FROM items_en;''', cnx)\n",
    "cleaning_store_df = pd.read_sql_query('''SELECT * FROM cleaning_store_id;''', cnx)\n",
    "cleaning_item_category_df = pd.read_sql_query('''SELECT * FROM cleaning_item_category_id;''', cnx)"
   ]
  },
  {
   "cell_type": "code",
   "execution_count": null,
   "id": "f1b42b1b-0691-4386-8de2-10b230ef5397",
   "metadata": {},
   "outputs": [],
   "source": [
    "#items_df.info()\n",
    "#sales_train_df.isnull().sum() # check for NaN values"
   ]
  },
  {
   "cell_type": "markdown",
   "id": "1f50ab77-84f6-4d6f-84fa-04c69f44b59d",
   "metadata": {
    "tags": []
   },
   "source": [
    "## Preprocessing"
   ]
  },
  {
   "cell_type": "code",
   "execution_count": 7,
   "id": "17069f7f-81cc-443a-b15b-8fca1208a7a2",
   "metadata": {},
   "outputs": [],
   "source": [
    "# Merge with categories to get the Ids\n",
    "sales_train_df = pd.merge(sales_train_df, items_df, left_on='item_id', right_on='item_id', how='left')\n",
    "# Merge with cleaning_item_category_df to get the status of active and non active categories\n",
    "sales_train_df = pd.merge(sales_train_df, cleaning_item_category_df, left_on='item_category_id', right_on='item_category_id', how='left')\n",
    "# Merge with cleaning_store_df to get the status of active and non active shops\n",
    "sales_train_df = pd.merge(sales_train_df, cleaning_store_df, left_on='shop_id', right_on='shop_id', how='left')"
   ]
  },
  {
   "cell_type": "code",
   "execution_count": 8,
   "id": "87f17f19-4ab4-4bf3-b4e9-aafc60fd7b34",
   "metadata": {},
   "outputs": [],
   "source": [
    "# Drop column that contais the items name, category status name, and shop status name\n",
    "sales_train_df.drop(labels=['item_name', 'category_status','shop_status'], axis=1, inplace=True)"
   ]
  },
  {
   "cell_type": "code",
   "execution_count": 9,
   "id": "8c83d455-eb96-4f29-8470-21e42f2d1e9d",
   "metadata": {},
   "outputs": [],
   "source": [
    "# Set date to YYYY/mm/dd\n",
    "sales_train_df['date'] = pd.to_datetime(sales_train_df['date'], format='%d.%m.%Y')\n",
    "\n",
    "# Set property dtypes for all other columns\n",
    "sales_train_df = sales_train_df.astype({'date_block_num':'Int32',\n",
    "                                        'shop_id':'Int32',\n",
    "                                        'item_id':'Int32',\n",
    "                                        'item_price':'float32',\n",
    "                                        'item_cnt_day':'Int32',\n",
    "                                        'item_category_id':'Int32',\n",
    "                                        'category_status_code':'Int32',\n",
    "                                        'shop_status_code':'Int32'})\n",
    "\n",
    "# Set a new DataFrame to work with models\n",
    "sales_train_clean_df = sales_train_df.copy()\n",
    "\n",
    "# Filter only active categories and stores\n",
    "sales_train_clean_df = sales_train_clean_df.query('category_status_code == 1').query('shop_status_code == 1')\n",
    "\n",
    "# Drop category_status_code and shop_status_code to lightweight the dataframe\n",
    "sales_train_clean_df.drop(labels=['category_status_code', 'shop_status_code'], axis=1, inplace=True)\n",
    "\n",
    "# Drop duplicates, just in case\n",
    "sales_train_clean_df.drop_duplicates(inplace=True)"
   ]
  },
  {
   "cell_type": "markdown",
   "id": "f5514f84-eb41-4553-bf90-8ddd69729c94",
   "metadata": {
    "tags": []
   },
   "source": [
    "### Transforming work DataFrame"
   ]
  },
  {
   "cell_type": "code",
   "execution_count": 10,
   "id": "6136fdaa-f2aa-42e7-947c-fc5c706d9d5a",
   "metadata": {},
   "outputs": [],
   "source": [
    "df = sales_train_clean_df.copy()\n",
    "\n",
    "#df['quarter'] = df.date.dt.quarter\n",
    "#df['is_quarter_start'] = df.date.dt.is_quarter_start.astype(int)\n",
    "#df['is_quarter_end'] = df.date.dt.is_quarter_end.astype(int)\n",
    "#df['is_year_start'] = df.date.dt.is_year_start.astype(int)\n",
    "#df['is_year_end'] = df.date.dt.is_year_end.astype(int)"
   ]
  },
  {
   "cell_type": "code",
   "execution_count": 11,
   "id": "83e101d0-49fc-42f1-afdb-fb619e02e3f6",
   "metadata": {},
   "outputs": [],
   "source": [
    "# Sum the total amount of sold products on a new column called total_item_amount_sold\n",
    "df['total_item_amount_sold'] = df.apply(lambda x: (x[\"item_price\"] * x[\"item_cnt_day\"]) if x['item_cnt_day'] > 0 else 0, axis=1)\n",
    "\n",
    "# Create a new column grouped by month and year concatenated\n",
    "df['month_year'] = pd.to_datetime(df['date']).dt.to_period('M')\n",
    "\n",
    "# Define the format of the DataFrame that will be used in the model\n",
    "df = df.groupby(['month_year', 'date_block_num', 'shop_id', 'item_id', 'item_category_id']).aggregate({'total_item_amount_sold': 'sum','item_cnt_day':'sum'}).reset_index().sort_values(['date_block_num'], ascending = True)\n"
   ]
  },
  {
   "cell_type": "code",
   "execution_count": 80,
   "id": "2111eed1-eb88-410e-8c99-8b9c87d96f44",
   "metadata": {},
   "outputs": [],
   "source": [
    "list_shop_id = [31] #list(df.shop_id.unique())"
   ]
  },
  {
   "cell_type": "code",
   "execution_count": 81,
   "id": "8a3b1e62-908c-42fd-bc88-57b082693efc",
   "metadata": {},
   "outputs": [],
   "source": [
    "list_unique_stores = df['shop_id'].sort_values().unique()"
   ]
  },
  {
   "cell_type": "code",
   "execution_count": 82,
   "id": "01fa704b-0b99-4a1a-9d0d-5639b8810e4e",
   "metadata": {},
   "outputs": [],
   "source": [
    "shop_df = df[df['shop_id'] == 31].query('item_cnt_day > 0')"
   ]
  },
  {
   "cell_type": "code",
   "execution_count": 83,
   "id": "79851a75-51b9-4ddd-8c54-cee0f0c8f363",
   "metadata": {},
   "outputs": [
    {
     "data": {
      "text/html": [
       "<div>\n",
       "<style scoped>\n",
       "    .dataframe tbody tr th:only-of-type {\n",
       "        vertical-align: middle;\n",
       "    }\n",
       "\n",
       "    .dataframe tbody tr th {\n",
       "        vertical-align: top;\n",
       "    }\n",
       "\n",
       "    .dataframe thead th {\n",
       "        text-align: right;\n",
       "    }\n",
       "</style>\n",
       "<table border=\"1\" class=\"dataframe\">\n",
       "  <thead>\n",
       "    <tr style=\"text-align: right;\">\n",
       "      <th></th>\n",
       "      <th>month_year</th>\n",
       "      <th>date_block_num</th>\n",
       "      <th>shop_id</th>\n",
       "      <th>item_id</th>\n",
       "      <th>item_category_id</th>\n",
       "      <th>total_item_amount_sold</th>\n",
       "      <th>item_cnt_day</th>\n",
       "    </tr>\n",
       "  </thead>\n",
       "  <tbody>\n",
       "    <tr>\n",
       "      <th>25155</th>\n",
       "      <td>2013-01</td>\n",
       "      <td>0</td>\n",
       "      <td>31</td>\n",
       "      <td>8674</td>\n",
       "      <td>40</td>\n",
       "      <td>198.0</td>\n",
       "      <td>1</td>\n",
       "    </tr>\n",
       "    <tr>\n",
       "      <th>25156</th>\n",
       "      <td>2013-01</td>\n",
       "      <td>0</td>\n",
       "      <td>31</td>\n",
       "      <td>8685</td>\n",
       "      <td>55</td>\n",
       "      <td>199.0</td>\n",
       "      <td>1</td>\n",
       "    </tr>\n",
       "    <tr>\n",
       "      <th>25157</th>\n",
       "      <td>2013-01</td>\n",
       "      <td>0</td>\n",
       "      <td>31</td>\n",
       "      <td>8690</td>\n",
       "      <td>55</td>\n",
       "      <td>199.0</td>\n",
       "      <td>1</td>\n",
       "    </tr>\n",
       "    <tr>\n",
       "      <th>25158</th>\n",
       "      <td>2013-01</td>\n",
       "      <td>0</td>\n",
       "      <td>31</td>\n",
       "      <td>8707</td>\n",
       "      <td>40</td>\n",
       "      <td>149.0</td>\n",
       "      <td>1</td>\n",
       "    </tr>\n",
       "    <tr>\n",
       "      <th>25159</th>\n",
       "      <td>2013-01</td>\n",
       "      <td>0</td>\n",
       "      <td>31</td>\n",
       "      <td>8709</td>\n",
       "      <td>40</td>\n",
       "      <td>1047.0</td>\n",
       "      <td>3</td>\n",
       "    </tr>\n",
       "    <tr>\n",
       "      <th>...</th>\n",
       "      <td>...</td>\n",
       "      <td>...</td>\n",
       "      <td>...</td>\n",
       "      <td>...</td>\n",
       "      <td>...</td>\n",
       "      <td>...</td>\n",
       "      <td>...</td>\n",
       "    </tr>\n",
       "    <tr>\n",
       "      <th>1331082</th>\n",
       "      <td>2015-10</td>\n",
       "      <td>33</td>\n",
       "      <td>31</td>\n",
       "      <td>45</td>\n",
       "      <td>57</td>\n",
       "      <td>299.0</td>\n",
       "      <td>1</td>\n",
       "    </tr>\n",
       "    <tr>\n",
       "      <th>1331080</th>\n",
       "      <td>2015-10</td>\n",
       "      <td>33</td>\n",
       "      <td>31</td>\n",
       "      <td>33</td>\n",
       "      <td>37</td>\n",
       "      <td>398.0</td>\n",
       "      <td>2</td>\n",
       "    </tr>\n",
       "    <tr>\n",
       "      <th>1331079</th>\n",
       "      <td>2015-10</td>\n",
       "      <td>33</td>\n",
       "      <td>31</td>\n",
       "      <td>32</td>\n",
       "      <td>40</td>\n",
       "      <td>447.0</td>\n",
       "      <td>3</td>\n",
       "    </tr>\n",
       "    <tr>\n",
       "      <th>1331078</th>\n",
       "      <td>2015-10</td>\n",
       "      <td>33</td>\n",
       "      <td>31</td>\n",
       "      <td>30</td>\n",
       "      <td>40</td>\n",
       "      <td>129.0</td>\n",
       "      <td>1</td>\n",
       "    </tr>\n",
       "    <tr>\n",
       "      <th>1331081</th>\n",
       "      <td>2015-10</td>\n",
       "      <td>33</td>\n",
       "      <td>31</td>\n",
       "      <td>40</td>\n",
       "      <td>57</td>\n",
       "      <td>249.0</td>\n",
       "      <td>1</td>\n",
       "    </tr>\n",
       "  </tbody>\n",
       "</table>\n",
       "<p>97988 rows × 7 columns</p>\n",
       "</div>"
      ],
      "text/plain": [
       "        month_year  date_block_num  shop_id  item_id  item_category_id  \\\n",
       "25155      2013-01               0       31     8674                40   \n",
       "25156      2013-01               0       31     8685                55   \n",
       "25157      2013-01               0       31     8690                55   \n",
       "25158      2013-01               0       31     8707                40   \n",
       "25159      2013-01               0       31     8709                40   \n",
       "...            ...             ...      ...      ...               ...   \n",
       "1331082    2015-10              33       31       45                57   \n",
       "1331080    2015-10              33       31       33                37   \n",
       "1331079    2015-10              33       31       32                40   \n",
       "1331078    2015-10              33       31       30                40   \n",
       "1331081    2015-10              33       31       40                57   \n",
       "\n",
       "         total_item_amount_sold  item_cnt_day  \n",
       "25155                     198.0             1  \n",
       "25156                     199.0             1  \n",
       "25157                     199.0             1  \n",
       "25158                     149.0             1  \n",
       "25159                    1047.0             3  \n",
       "...                         ...           ...  \n",
       "1331082                   299.0             1  \n",
       "1331080                   398.0             2  \n",
       "1331079                   447.0             3  \n",
       "1331078                   129.0             1  \n",
       "1331081                   249.0             1  \n",
       "\n",
       "[97988 rows x 7 columns]"
      ]
     },
     "execution_count": 83,
     "metadata": {},
     "output_type": "execute_result"
    }
   ],
   "source": [
    "shop_df"
   ]
  },
  {
   "cell_type": "code",
   "execution_count": 63,
   "id": "2c40cb65-e2a0-4db1-aef6-8b994ada6c07",
   "metadata": {},
   "outputs": [],
   "source": [
    "list_unique_item = shop_df['item_id'].sort_values().unique()"
   ]
  },
  {
   "cell_type": "code",
   "execution_count": 64,
   "id": "21c57072-13f0-490d-8eb0-35264d0610b4",
   "metadata": {},
   "outputs": [
    {
     "data": {
      "text/plain": [
       "<IntegerArray>\n",
       "[   26,    27,    28,    29,    30,    31,    32,    33,    34,    35,\n",
       " ...\n",
       " 22151, 22152, 22154, 22155, 22159, 22160, 22162, 22163, 22164, 22167]\n",
       "Length: 14135, dtype: Int32"
      ]
     },
     "execution_count": 64,
     "metadata": {},
     "output_type": "execute_result"
    }
   ],
   "source": [
    "list_unique_item"
   ]
  },
  {
   "cell_type": "code",
   "execution_count": 84,
   "id": "2d089732-3c19-4948-b1a0-61fc7f594656",
   "metadata": {},
   "outputs": [],
   "source": [
    "shop_df.set_index('item_id', inplace=True)\n"
   ]
  },
  {
   "cell_type": "code",
   "execution_count": 85,
   "id": "db999a8f-7a23-471f-9011-9ae8b2739eb5",
   "metadata": {},
   "outputs": [],
   "source": [
    "list_seq = []"
   ]
  },
  {
   "cell_type": "code",
   "execution_count": 86,
   "id": "5c684a1d-170f-4481-a769-07712d69b0c5",
   "metadata": {
    "tags": []
   },
   "outputs": [],
   "source": [
    "for x in list_unique_item:\n",
    "    #i = i + 1\n",
    "\n",
    "    s = np.array(shop_df.loc[x,['date_block_num', \n",
    "                                'shop_id', \n",
    "                                'item_category_id',\n",
    "                                'total_item_amount_sold',\n",
    "                                'item_cnt_day']])\n",
    "    if len(np.shape(s)) < 2:\n",
    "        s = np.expand_dims(s,axis=0)\n",
    "\n",
    "    list_seq.append(s)\n",
    "\n",
    "    #print(i)"
   ]
  },
  {
   "cell_type": "code",
   "execution_count": null,
   "id": "de5fbf90-3c51-43fa-9596-8295fb2b888a",
   "metadata": {},
   "outputs": [],
   "source": [
    "X = list_seq\n",
    "X_pad = pad_sequences(X, dtype='float32', value=0)\n",
    "y = X_pad[:,-1,-1]\n"
   ]
  },
  {
   "cell_type": "code",
   "execution_count": null,
   "id": "1ee5d482-278f-4ec9-93e1-14f0d172f7e4",
   "metadata": {
    "tags": []
   },
   "outputs": [
    {
     "name": "stderr",
     "output_type": "stream",
     "text": [
      " 50%|█████████████████████████████████████████████████████████████████████▌                                                                     | 1/2 [01:58<01:58, 118.76s/it]"
     ]
    }
   ],
   "source": [
    "modeldict = {}\n",
    "\n",
    "for ele in tqdm(list_shop_id):\n",
    "    # Get a test sample with only one store #31\n",
    "    shop_df = df[df['shop_id'] == ele].query('item_cnt_day > 0')\n",
    "\n",
    "    # Creating list of unique items to predict the amount sold per item\n",
    "    list_unique_item = shop_df['item_id'].sort_values().unique()\n",
    "    #print(f\"Unique items: {list_unique_item}\")\n",
    "\n",
    "    shop_df.set_index('item_id', inplace=True)\n",
    "\n",
    "    list_seq = []\n",
    "\n",
    "    for x in list_unique_item:\n",
    "        s = np.array(shop_df.loc[x,['date_block_num', \n",
    "                                    'shop_id', \n",
    "                                    'item_category_id',\n",
    "                                    'total_item_amount_sold',\n",
    "                                    'item_cnt_day']])\n",
    "        if len(np.shape(s)) < 2:\n",
    "            s = np.expand_dims(s,axis=0)\n",
    "\n",
    "        list_seq.append(s)\n",
    "             \n",
    "    X = list_seq\n",
    "    X_pad = pad_sequences(X, dtype='float32', value=0)\n",
    "    y = X_pad[:,-1,-1]\n",
    "    \n",
    "    \n",
    "    modeldict.update({f\"X_{ele}\":X_pad})\n",
    "    modeldict.update({f\"y_{ele}\":y})\n",
    "\n",
    "#     # –– Model\n",
    "#     model = Sequential()\n",
    "#     model.add(layers.Masking(mask_value=-1000, input_shape=(32, 2)))\n",
    "#     model.add(layers.SimpleRNN(units=2, activation='tanh'))\n",
    "#     model.add(layers.Dense(10, activation='relu'))\n",
    "#     model.add(layers.Dense(1, activation='linear'))\n",
    "\n",
    "#     # –– Compilation\n",
    "#     model.compile(loss='mse', \n",
    "#                   optimizer='rmsprop') # Use `rmsprop`\n",
    "\n",
    "#     # –– Fit\n",
    "#     model.fit(X_pad, y);\n",
    "#     modeldict.update({ele:model})\n",
    "\n"
   ]
  },
  {
   "cell_type": "code",
   "execution_count": 56,
   "id": "904af86a-31ab-4efc-904e-b23180c6f743",
   "metadata": {},
   "outputs": [
    {
     "data": {
      "text/plain": [
       "(4814, 33, 5)"
      ]
     },
     "execution_count": 56,
     "metadata": {},
     "output_type": "execute_result"
    }
   ],
   "source": [
    "X_pad.shape"
   ]
  },
  {
   "cell_type": "code",
   "execution_count": 57,
   "id": "dadde0f8-a9cb-4edb-ac83-b2b597f238f8",
   "metadata": {},
   "outputs": [
    {
     "data": {
      "text/plain": [
       "(4814,)"
      ]
     },
     "execution_count": 57,
     "metadata": {},
     "output_type": "execute_result"
    }
   ],
   "source": [
    "y.shape"
   ]
  },
  {
   "cell_type": "code",
   "execution_count": 55,
   "id": "659850b5-5aef-4cbe-86ca-7d5e67c32d26",
   "metadata": {},
   "outputs": [
    {
     "data": {
      "text/plain": [
       "(1, 5)"
      ]
     },
     "execution_count": 55,
     "metadata": {},
     "output_type": "execute_result"
    }
   ],
   "source": [
    "np.shape(list_seq[5])"
   ]
  },
  {
   "cell_type": "code",
   "execution_count": null,
   "id": "3386eb74-7587-4ba6-b978-281bbd70f6cb",
   "metadata": {},
   "outputs": [],
   "source": [
    "shop_df.reset_index().groupby(by='item_id').count()['month_year"
   ]
  },
  {
   "cell_type": "code",
   "execution_count": null,
   "id": "98df2137-dd70-41cc-b9b8-9a5b52d80f23",
   "metadata": {},
   "outputs": [],
   "source": [
    "np.shape(X_pad)"
   ]
  },
  {
   "cell_type": "code",
   "execution_count": null,
   "id": "e8ac1611-389c-457b-acc0-162391de7140",
   "metadata": {},
   "outputs": [],
   "source": [
    "X=len(list_seq[:-1])"
   ]
  },
  {
   "cell_type": "code",
   "execution_count": null,
   "id": "37990483-a856-4acf-99a2-7185a0e41d3b",
   "metadata": {},
   "outputs": [],
   "source": [
    "len(list_seq)"
   ]
  },
  {
   "cell_type": "code",
   "execution_count": null,
   "id": "7a422d17-4590-48e0-a58f-f908f091cde4",
   "metadata": {
    "scrolled": true,
    "tags": []
   },
   "outputs": [],
   "source": [
    "X"
   ]
  },
  {
   "cell_type": "code",
   "execution_count": null,
   "id": "7d347bbb-9815-46be-8754-4e9aba07124f",
   "metadata": {},
   "outputs": [],
   "source": []
  }
 ],
 "metadata": {
  "kernelspec": {
   "display_name": "Python 3 (ipykernel)",
   "language": "python",
   "name": "python3"
  },
  "language_info": {
   "codemirror_mode": {
    "name": "ipython",
    "version": 3
   },
   "file_extension": ".py",
   "mimetype": "text/x-python",
   "name": "python",
   "nbconvert_exporter": "python",
   "pygments_lexer": "ipython3",
   "version": "3.8.12"
  }
 },
 "nbformat": 4,
 "nbformat_minor": 5
}
