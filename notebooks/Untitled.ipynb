{
 "cells": [
  {
   "cell_type": "code",
   "execution_count": 1,
   "id": "dc172764-27b1-4eae-85fc-523737c55598",
   "metadata": {},
   "outputs": [],
   "source": [
    "import numpy as np\n",
    "import pandas as pd \n",
    "import matplotlib.pyplot as plt\n",
    "import seaborn as sns"
   ]
  },
  {
   "cell_type": "code",
   "execution_count": 2,
   "id": "6b9bb426-8864-46e9-93be-4171dd1b40e3",
   "metadata": {},
   "outputs": [],
   "source": [
    "#loading all data \n",
    "\n",
    "#loading trains \n",
    "data_train = pd.read_csv('../raw_data/sales_train.csv')\n",
    "\n",
    "#loading test data \n",
    "data_test = pd.read_csv('../raw_data/test.csv')\n",
    "\n",
    "#loading item categories data \n",
    "item_categories = pd.read_csv('../raw_data/item_categories.csv')\n",
    "\n",
    "#loading items\n",
    "items = pd.read_csv('../raw_data/items.csv')\n",
    "\n",
    "#loading shops \n",
    "shops = pd.read_csv('../raw_data/shops.csv')\n",
    "\n",
    "#loadinf sub\n",
    "sample = pd.read_csv('../raw_data/sample_submission.csv')"
   ]
  },
  {
   "cell_type": "code",
   "execution_count": null,
   "id": "1ae19f2a-9429-4a1c-a40d-d8e021d25d08",
   "metadata": {},
   "outputs": [],
   "source": []
  }
 ],
 "metadata": {
  "kernelspec": {
   "display_name": "Python 3 (ipykernel)",
   "language": "python",
   "name": "python3"
  },
  "language_info": {
   "codemirror_mode": {
    "name": "ipython",
    "version": 3
   },
   "file_extension": ".py",
   "mimetype": "text/x-python",
   "name": "python",
   "nbconvert_exporter": "python",
   "pygments_lexer": "ipython3",
   "version": "3.8.12"
  }
 },
 "nbformat": 4,
 "nbformat_minor": 5
}
