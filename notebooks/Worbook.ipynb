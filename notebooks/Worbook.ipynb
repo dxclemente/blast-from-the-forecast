{
 "cells": [
  {
   "cell_type": "code",
   "execution_count": 4,
   "id": "b89e958d-f5a5-41ec-97fa-6cad06b4379a",
   "metadata": {
    "tags": []
   },
   "outputs": [],
   "source": [
    "import pandas as pd\n",
    "import numpy as np\n",
    "import matplotlib.pyplot as plt\n",
    "import seaborn as sns\n",
    "import os\n",
    "from sqlalchemy import create_engine\n",
    "from dotenv import load_dotenv\n",
    "import psycopg2"
   ]
  },
  {
   "cell_type": "markdown",
   "id": "9c3f1b96-74a9-4819-b0dd-5be8df27f6b4",
   "metadata": {
    "tags": []
   },
   "source": [
    "## Load data from Postgres"
   ]
  },
  {
   "cell_type": "code",
   "execution_count": 5,
   "id": "284c5c2b-c74b-4132-b5b7-99cc63524808",
   "metadata": {},
   "outputs": [],
   "source": [
    "# Set postgres credentials\n",
    "\n",
    "load_dotenv()\n",
    "user = os.getenv('DB_USER')\n",
    "password = os.getenv('DB_PASSWORD')\n",
    "host = os.getenv('DB_HOST')\n",
    "port = os.getenv('DB_PORT')\n",
    "db = os.getenv('DB')"
   ]
  },
  {
   "cell_type": "code",
   "execution_count": 6,
   "id": "c24f5686-e041-45eb-87ed-77e50e733163",
   "metadata": {},
   "outputs": [],
   "source": [
    "# A long string that contains the necessary Postgres login information\n",
    "postgres_str = ('postgresql://{username}:{password}@{ipaddress}:{port}/{dbname}'\n",
    "                .format(username=user,\n",
    "                        password=password,\n",
    "                        ipaddress=host,\n",
    "                        port=port,\n",
    "                        dbname=db))\n",
    "cnx = create_engine(postgres_str)"
   ]
  },
  {
   "cell_type": "code",
   "execution_count": 9,
   "id": "7013aac0-a8de-4f7e-958c-2c87e05e61a2",
   "metadata": {},
   "outputs": [
    {
     "data": {
      "text/plain": [
       "['test',\n",
       " 'shops',\n",
       " 'sample_submission',\n",
       " 'item_categories',\n",
       " 'sales_train',\n",
       " 'shops_en',\n",
       " 'item_categories_en',\n",
       " 'items_en',\n",
       " 'items']"
      ]
     },
     "execution_count": 9,
     "metadata": {},
     "output_type": "execute_result"
    }
   ],
   "source": [
    "# List DB tables\n",
    "conn = psycopg2.connect(postgres_str)\n",
    "cursor = conn.cursor()\n",
    "cursor.execute(\"\"\"SELECT relname FROM pg_class WHERE relkind='r'\n",
    "                  AND relname !~ '^(pg_|sql_)';\"\"\") # \"rel\" is short for relation.\n",
    "\n",
    "tables_list = [i[0] for i in cursor.fetchall()] # A list() of tables.\n",
    "tables_list #check available tables"
   ]
  },
  {
   "cell_type": "code",
   "execution_count": 10,
   "id": "0e4b1f44-eb41-4a23-97c9-3c08a1c88123",
   "metadata": {},
   "outputs": [],
   "source": [
    "# Load datasets\n",
    "shops_df = pd.read_sql_query('''SELECT * FROM shops_en;''', cnx)\n",
    "item_categories_df = pd.read_sql_query('''SELECT * FROM item_categories_en;''', cnx)\n",
    "test_df = pd.read_sql_query('''SELECT * FROM test;''', cnx)\n",
    "sales_train_df = pd.read_sql_query('''SELECT * FROM sales_train;''', cnx)\n",
    "items_df = pd.read_sql_query('''SELECT * FROM items_en;''', cnx)"
   ]
  },
  {
   "cell_type": "code",
   "execution_count": 11,
   "id": "f1b42b1b-0691-4386-8de2-10b230ef5397",
   "metadata": {},
   "outputs": [
    {
     "name": "stdout",
     "output_type": "stream",
     "text": [
      "<class 'pandas.core.frame.DataFrame'>\n",
      "RangeIndex: 22170 entries, 0 to 22169\n",
      "Data columns (total 3 columns):\n",
      " #   Column            Non-Null Count  Dtype \n",
      "---  ------            --------------  ----- \n",
      " 0   item_name         22170 non-null  object\n",
      " 1   item_id           22170 non-null  int64 \n",
      " 2   item_category_id  22170 non-null  int64 \n",
      "dtypes: int64(2), object(1)\n",
      "memory usage: 519.7+ KB\n"
     ]
    },
    {
     "data": {
      "text/plain": [
       "date              0\n",
       "date_block_num    0\n",
       "shop_id           0\n",
       "item_id           0\n",
       "item_price        0\n",
       "item_cnt_day      0\n",
       "dtype: int64"
      ]
     },
     "execution_count": 11,
     "metadata": {},
     "output_type": "execute_result"
    }
   ],
   "source": [
    "items_df.info()\n",
    "sales_train_df.isnull().sum() # check for NaN values"
   ]
  },
  {
   "cell_type": "markdown",
   "id": "1f50ab77-84f6-4d6f-84fa-04c69f44b59d",
   "metadata": {
    "tags": []
   },
   "source": [
    "## Preprocessing"
   ]
  },
  {
   "cell_type": "code",
   "execution_count": 12,
   "id": "4f5d56e0-c81e-4b1b-b63f-39687d3d2ab4",
   "metadata": {},
   "outputs": [],
   "source": [
    "# Merge with categories to get the Ids\n",
    "sales_train_df = pd.merge(sales_train_df, items_df, left_on='item_id', right_on='item_id', how='left')\n",
    "\n",
    "# Drop column that contais the item_name\n",
    "sales_train_df.drop(labels='item_name', axis=1, inplace=True)"
   ]
  },
  {
   "cell_type": "code",
   "execution_count": 13,
   "id": "03903254-d665-41e9-ac0a-ef65a2939869",
   "metadata": {},
   "outputs": [],
   "source": [
    "# Set date to YYYY/mm/dd\n",
    "sales_train_df['date'] = pd.to_datetime(sales_train_df['date'], format='%d.%m.%Y')\n",
    "\n",
    "# Drop duplicates\n",
    "sales_train_df.drop_duplicates(inplace=True)"
   ]
  },
  {
   "cell_type": "code",
   "execution_count": 14,
   "id": "5b95038d-5b70-4d0a-82e3-08f52c78f935",
   "metadata": {},
   "outputs": [
    {
     "data": {
      "text/html": [
       "<div><div id=19b66c1b-5e04-4654-aadf-e10264e75096 style=\"display:none; background-color:#9D6CFF; color:white; width:200px; height:30px; padding-left:5px; border-radius:4px; flex-direction:row; justify-content:space-around; align-items:center;\" onmouseover=\"this.style.backgroundColor='#BA9BF8'\" onmouseout=\"this.style.backgroundColor='#9D6CFF'\" onclick=\"window.commands?.execute('create-mitosheet-from-dataframe-output');\">See Full Dataframe in Mito</div> <script> if (window.commands?.hasCommand('create-mitosheet-from-dataframe-output')) document.getElementById('19b66c1b-5e04-4654-aadf-e10264e75096').style.display = 'flex' </script> <table border=\"1\" class=\"dataframe\">\n",
       "  <thead>\n",
       "    <tr style=\"text-align: right;\">\n",
       "      <th></th>\n",
       "      <th>date</th>\n",
       "      <th>date_block_num</th>\n",
       "      <th>shop_id</th>\n",
       "      <th>item_id</th>\n",
       "      <th>item_price</th>\n",
       "      <th>item_cnt_day</th>\n",
       "      <th>item_category_id</th>\n",
       "    </tr>\n",
       "  </thead>\n",
       "  <tbody>\n",
       "    <tr>\n",
       "      <th>0</th>\n",
       "      <td>2013-01-02</td>\n",
       "      <td>0</td>\n",
       "      <td>59</td>\n",
       "      <td>22154</td>\n",
       "      <td>999.00</td>\n",
       "      <td>1.0</td>\n",
       "      <td>37</td>\n",
       "    </tr>\n",
       "    <tr>\n",
       "      <th>1</th>\n",
       "      <td>2013-01-03</td>\n",
       "      <td>0</td>\n",
       "      <td>25</td>\n",
       "      <td>2552</td>\n",
       "      <td>899.00</td>\n",
       "      <td>1.0</td>\n",
       "      <td>58</td>\n",
       "    </tr>\n",
       "    <tr>\n",
       "      <th>2</th>\n",
       "      <td>2013-01-05</td>\n",
       "      <td>0</td>\n",
       "      <td>25</td>\n",
       "      <td>2552</td>\n",
       "      <td>899.00</td>\n",
       "      <td>-1.0</td>\n",
       "      <td>58</td>\n",
       "    </tr>\n",
       "    <tr>\n",
       "      <th>3</th>\n",
       "      <td>2013-01-06</td>\n",
       "      <td>0</td>\n",
       "      <td>25</td>\n",
       "      <td>2554</td>\n",
       "      <td>1709.05</td>\n",
       "      <td>1.0</td>\n",
       "      <td>58</td>\n",
       "    </tr>\n",
       "    <tr>\n",
       "      <th>4</th>\n",
       "      <td>2013-01-15</td>\n",
       "      <td>0</td>\n",
       "      <td>25</td>\n",
       "      <td>2555</td>\n",
       "      <td>1099.00</td>\n",
       "      <td>1.0</td>\n",
       "      <td>56</td>\n",
       "    </tr>\n",
       "    <tr>\n",
       "      <th>...</th>\n",
       "      <td>...</td>\n",
       "      <td>...</td>\n",
       "      <td>...</td>\n",
       "      <td>...</td>\n",
       "      <td>...</td>\n",
       "      <td>...</td>\n",
       "      <td>...</td>\n",
       "    </tr>\n",
       "    <tr>\n",
       "      <th>2935844</th>\n",
       "      <td>2015-10-10</td>\n",
       "      <td>33</td>\n",
       "      <td>25</td>\n",
       "      <td>7409</td>\n",
       "      <td>299.00</td>\n",
       "      <td>1.0</td>\n",
       "      <td>55</td>\n",
       "    </tr>\n",
       "    <tr>\n",
       "      <th>2935845</th>\n",
       "      <td>2015-10-09</td>\n",
       "      <td>33</td>\n",
       "      <td>25</td>\n",
       "      <td>7460</td>\n",
       "      <td>299.00</td>\n",
       "      <td>1.0</td>\n",
       "      <td>55</td>\n",
       "    </tr>\n",
       "    <tr>\n",
       "      <th>2935846</th>\n",
       "      <td>2015-10-14</td>\n",
       "      <td>33</td>\n",
       "      <td>25</td>\n",
       "      <td>7459</td>\n",
       "      <td>349.00</td>\n",
       "      <td>1.0</td>\n",
       "      <td>55</td>\n",
       "    </tr>\n",
       "    <tr>\n",
       "      <th>2935847</th>\n",
       "      <td>2015-10-22</td>\n",
       "      <td>33</td>\n",
       "      <td>25</td>\n",
       "      <td>7440</td>\n",
       "      <td>299.00</td>\n",
       "      <td>1.0</td>\n",
       "      <td>57</td>\n",
       "    </tr>\n",
       "    <tr>\n",
       "      <th>2935848</th>\n",
       "      <td>2015-10-03</td>\n",
       "      <td>33</td>\n",
       "      <td>25</td>\n",
       "      <td>7460</td>\n",
       "      <td>299.00</td>\n",
       "      <td>1.0</td>\n",
       "      <td>55</td>\n",
       "    </tr>\n",
       "  </tbody>\n",
       "</table></div>"
      ],
      "text/plain": [
       "              date  date_block_num  shop_id  item_id  item_price  \\\n",
       "0       2013-01-02               0       59    22154      999.00   \n",
       "1       2013-01-03               0       25     2552      899.00   \n",
       "2       2013-01-05               0       25     2552      899.00   \n",
       "3       2013-01-06               0       25     2554     1709.05   \n",
       "4       2013-01-15               0       25     2555     1099.00   \n",
       "...            ...             ...      ...      ...         ...   \n",
       "2935844 2015-10-10              33       25     7409      299.00   \n",
       "2935845 2015-10-09              33       25     7460      299.00   \n",
       "2935846 2015-10-14              33       25     7459      349.00   \n",
       "2935847 2015-10-22              33       25     7440      299.00   \n",
       "2935848 2015-10-03              33       25     7460      299.00   \n",
       "\n",
       "         item_cnt_day  item_category_id  \n",
       "0                 1.0                37  \n",
       "1                 1.0                58  \n",
       "2                -1.0                58  \n",
       "3                 1.0                58  \n",
       "4                 1.0                56  \n",
       "...               ...               ...  \n",
       "2935844           1.0                55  \n",
       "2935845           1.0                55  \n",
       "2935846           1.0                55  \n",
       "2935847           1.0                57  \n",
       "2935848           1.0                55  \n",
       "\n",
       "[2935843 rows x 7 columns]"
      ]
     },
     "execution_count": 14,
     "metadata": {},
     "output_type": "execute_result"
    }
   ],
   "source": [
    "sales_train_df"
   ]
  },
  {
   "cell_type": "code",
   "execution_count": 77,
   "id": "856b0753-550e-4f3e-8494-1e612fa2499c",
   "metadata": {},
   "outputs": [],
   "source": [
    "# date_block_num: 34\n",
    "# shop_id: 60\n",
    "# item_id: 21807"
   ]
  },
  {
   "cell_type": "code",
   "execution_count": null,
   "id": "8ab63345-0c4b-434f-b134-4d03407842e7",
   "metadata": {},
   "outputs": [],
   "source": [
    "date_block_num, shop_id\n",
    "0\n",
    "1\n",
    "2\n",
    "3\n",
    "4\n",
    "5\n",
    "6\n",
    "7"
   ]
  }
 ],
 "metadata": {
  "kernelspec": {
   "display_name": "Python 3 (ipykernel)",
   "language": "python",
   "name": "python3"
  },
  "language_info": {
   "codemirror_mode": {
    "name": "ipython",
    "version": 3
   },
   "file_extension": ".py",
   "mimetype": "text/x-python",
   "name": "python",
   "nbconvert_exporter": "python",
   "pygments_lexer": "ipython3",
   "version": "3.8.12"
  }
 },
 "nbformat": 4,
 "nbformat_minor": 5
}
