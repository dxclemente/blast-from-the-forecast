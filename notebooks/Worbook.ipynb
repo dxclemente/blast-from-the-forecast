{
 "cells": [
  {
   "cell_type": "code",
   "execution_count": 1,
   "id": "b89e958d-f5a5-41ec-97fa-6cad06b4379a",
   "metadata": {
    "tags": []
   },
   "outputs": [],
   "source": [
    "import pandas as pd\n",
    "import numpy as np\n",
    "import matplotlib.pyplot as plt\n",
    "import seaborn as sns\n",
    "import os\n",
    "from sqlalchemy import create_engine\n",
    "from dotenv import load_dotenv\n",
    "import psycopg2"
   ]
  },
  {
   "cell_type": "markdown",
   "id": "9c3f1b96-74a9-4819-b0dd-5be8df27f6b4",
   "metadata": {
    "tags": []
   },
   "source": [
    "## Load data from Postgres"
   ]
  },
  {
   "cell_type": "code",
   "execution_count": 2,
   "id": "284c5c2b-c74b-4132-b5b7-99cc63524808",
   "metadata": {},
   "outputs": [],
   "source": [
    "# Set postgres credentials\n",
    "load_dotenv()\n",
    "user = os.getenv('DB_USER')\n",
    "password = os.getenv('DB_PASSWORD')\n",
    "host = os.getenv('DB_HOST')\n",
    "port = os.getenv('DB_PORT')\n",
    "db = os.getenv('DB')"
   ]
  },
  {
   "cell_type": "code",
   "execution_count": 3,
   "id": "c24f5686-e041-45eb-87ed-77e50e733163",
   "metadata": {},
   "outputs": [],
   "source": [
    "# A long string that contains the necessary Postgres login information\n",
    "postgres_str = ('postgresql://{username}:{password}@{ipaddress}:{port}/{dbname}'\n",
    "                .format(username=user,\n",
    "                        password=password,\n",
    "                        ipaddress=host,\n",
    "                        port=port,\n",
    "                        dbname=db))\n",
    "cnx = create_engine(postgres_str)"
   ]
  },
  {
   "cell_type": "code",
   "execution_count": 4,
   "id": "7013aac0-a8de-4f7e-958c-2c87e05e61a2",
   "metadata": {},
   "outputs": [],
   "source": [
    "# List DB tables\n",
    "conn = psycopg2.connect(postgres_str)\n",
    "cursor = conn.cursor()\n",
    "cursor.execute(\"\"\"SELECT relname FROM pg_class WHERE relkind='r'\n",
    "                  AND relname !~ '^(pg_|sql_)';\"\"\") # \"rel\" is short for relation.\n",
    "\n",
    "tables_list = [i[0] for i in cursor.fetchall()] # A list() of tables.\n",
    "#tables_list #check available tables"
   ]
  },
  {
   "cell_type": "code",
   "execution_count": 5,
   "id": "0e4b1f44-eb41-4a23-97c9-3c08a1c88123",
   "metadata": {},
   "outputs": [],
   "source": [
    "# Load datasets\n",
    "shops_df = pd.read_sql_query('''SELECT * FROM shops_en;''', cnx)\n",
    "item_categories_df = pd.read_sql_query('''SELECT * FROM item_categories_en;''', cnx)\n",
    "test_df = pd.read_sql_query('''SELECT * FROM test;''', cnx)\n",
    "sales_train_df = pd.read_sql_query('''SELECT * FROM sales_train;''', cnx)\n",
    "items_df = pd.read_sql_query('''SELECT * FROM items_en;''', cnx)\n",
    "cleaning_store_df = pd.read_sql_query('''SELECT * FROM cleaning_store_id;''', cnx)\n",
    "cleaning_item_category_df = pd.read_sql_query('''SELECT * FROM cleaning_item_category_id;''', cnx)"
   ]
  },
  {
   "cell_type": "code",
   "execution_count": null,
   "id": "f1b42b1b-0691-4386-8de2-10b230ef5397",
   "metadata": {},
   "outputs": [],
   "source": [
    "#items_df.info()\n",
    "#sales_train_df.isnull().sum() # check for NaN values"
   ]
  },
  {
   "cell_type": "markdown",
   "id": "1f50ab77-84f6-4d6f-84fa-04c69f44b59d",
   "metadata": {
    "tags": []
   },
   "source": [
    "## Preprocessing"
   ]
  },
  {
   "cell_type": "code",
   "execution_count": 7,
   "id": "17069f7f-81cc-443a-b15b-8fca1208a7a2",
   "metadata": {},
   "outputs": [],
   "source": [
    "# Merge with categories to get the Ids\n",
    "sales_train_df = pd.merge(sales_train_df, items_df, left_on='item_id', right_on='item_id', how='left')\n",
    "# Merge with cleaning_item_category_df to get the status of active and non active categories\n",
    "sales_train_df = pd.merge(sales_train_df, cleaning_item_category_df, left_on='item_category_id', right_on='item_category_id', how='left')\n",
    "# Merge with cleaning_store_df to get the status of active and non active shops\n",
    "sales_train_df = pd.merge(sales_train_df, cleaning_store_df, left_on='shop_id', right_on='shop_id', how='left')"
   ]
  },
  {
   "cell_type": "code",
   "execution_count": 8,
   "id": "87f17f19-4ab4-4bf3-b4e9-aafc60fd7b34",
   "metadata": {},
   "outputs": [],
   "source": [
    "# Drop column that contais the items name, category status name, and shop status name\n",
    "sales_train_df.drop(labels=['item_name', 'category_status','shop_status'], axis=1, inplace=True)"
   ]
  },
  {
   "cell_type": "code",
   "execution_count": 10,
   "id": "8c83d455-eb96-4f29-8470-21e42f2d1e9d",
   "metadata": {},
   "outputs": [],
   "source": [
    "# Set date to YYYY/mm/dd\n",
    "sales_train_df['date'] = pd.to_datetime(sales_train_df['date'], format='%d.%m.%Y')\n",
    "\n",
    "# Set property dtypes for all other columns\n",
    "sales_train_df = sales_train_df.astype({'date_block_num':'Int64',\n",
    "                                        'shop_id':'Int64',\n",
    "                                        'item_id':'Int64',\n",
    "                                        'item_price':'float64',\n",
    "                                        'item_cnt_day':'Int64',\n",
    "                                        'item_category_id':'Int64',\n",
    "                                        'category_status_code':'Int64',\n",
    "                                        'shop_status_code':'Int64'})\n",
    "\n",
    "# Set a new DataFrame to work with models\n",
    "sales_train_clean_df = sales_train_df.copy()\n",
    "\n",
    "# Filter only active categories and stores\n",
    "sales_train_clean_df = sales_train_clean_df.query('category_status_code == 1').query('shop_status_code == 1')\n",
    "\n",
    "# Drop category_status_code and shop_status_code to lightweight the dataframe\n",
    "sales_train_clean_df.drop(labels=['category_status_code', 'shop_status_code'], axis=1, inplace=True)\n",
    "\n",
    "# Drop duplicates, just in case\n",
    "sales_train_clean_df.drop_duplicates(inplace=True)"
   ]
  },
  {
   "cell_type": "code",
   "execution_count": null,
   "id": "579c03b0-ce7b-459c-a805-89fbda765a76",
   "metadata": {},
   "outputs": [],
   "source": [
    "# DF with stores and categories only\n",
    "sales_train_clean_df"
   ]
  },
  {
   "cell_type": "markdown",
   "id": "f5514f84-eb41-4553-bf90-8ddd69729c94",
   "metadata": {},
   "source": [
    "## Transforming work DataFrame"
   ]
  },
  {
   "cell_type": "code",
   "execution_count": 101,
   "id": "6136fdaa-f2aa-42e7-947c-fc5c706d9d5a",
   "metadata": {},
   "outputs": [],
   "source": [
    "sales_train_clean_df_ = sales_train_clean_df.copy()"
   ]
  },
  {
   "cell_type": "code",
   "execution_count": 102,
   "id": "83e101d0-49fc-42f1-afdb-fb619e02e3f6",
   "metadata": {},
   "outputs": [],
   "source": [
    "# Sum the total amount of sold products on a new column called total_item_amount_sold\n",
    "sales_train_clean_df_['total_item_amount_sold'] = sales_train_clean_df_.apply(lambda x: (x[\"item_price\"] * x[\"item_cnt_day\"]) if x['item_cnt_day'] > 0 else 0, axis=1)"
   ]
  },
  {
   "cell_type": "code",
   "execution_count": 103,
   "id": "6e826b55-f95b-4806-9627-beef06b5b9b0",
   "metadata": {},
   "outputs": [],
   "source": [
    "# Get a test sample with only one store #31\n",
    "shop_31_df = sales_train_clean_df_.query('shop_id == 31').query('item_cnt_day > 0')\n",
    "\n",
    "# Group by 'date_block_num', 'item_id' and sum the total sold amount for the store 31\n",
    "shop_31_df_ = shop_31_df.groupby(['date_block_num', 'item_id']).aggregate({'total_item_amount_sold': 'sum','item_cnt_day':'count'}).reset_index().sort_values(\"date_block_num\", ascending = True)"
   ]
  },
  {
   "cell_type": "code",
   "execution_count": 104,
   "id": "70e1e1e7-513c-4fe5-9ba8-46a7a1bacede",
   "metadata": {},
   "outputs": [
    {
     "data": {
      "text/html": [
       "<div>\n",
       "<style scoped>\n",
       "    .dataframe tbody tr th:only-of-type {\n",
       "        vertical-align: middle;\n",
       "    }\n",
       "\n",
       "    .dataframe tbody tr th {\n",
       "        vertical-align: top;\n",
       "    }\n",
       "\n",
       "    .dataframe thead th {\n",
       "        text-align: right;\n",
       "    }\n",
       "</style>\n",
       "<table border=\"1\" class=\"dataframe\">\n",
       "  <thead>\n",
       "    <tr style=\"text-align: right;\">\n",
       "      <th></th>\n",
       "      <th>date_block_num</th>\n",
       "      <th>item_id</th>\n",
       "      <th>total_item_amount_sold</th>\n",
       "      <th>item_cnt_day</th>\n",
       "    </tr>\n",
       "  </thead>\n",
       "  <tbody>\n",
       "    <tr>\n",
       "      <th>0</th>\n",
       "      <td>0</td>\n",
       "      <td>27</td>\n",
       "      <td>2499.0</td>\n",
       "      <td>1</td>\n",
       "    </tr>\n",
       "    <tr>\n",
       "      <th>2210</th>\n",
       "      <td>0</td>\n",
       "      <td>14733</td>\n",
       "      <td>149.0</td>\n",
       "      <td>1</td>\n",
       "    </tr>\n",
       "    <tr>\n",
       "      <th>2211</th>\n",
       "      <td>0</td>\n",
       "      <td>14738</td>\n",
       "      <td>349.0</td>\n",
       "      <td>1</td>\n",
       "    </tr>\n",
       "    <tr>\n",
       "      <th>2212</th>\n",
       "      <td>0</td>\n",
       "      <td>14743</td>\n",
       "      <td>298.0</td>\n",
       "      <td>2</td>\n",
       "    </tr>\n",
       "    <tr>\n",
       "      <th>2213</th>\n",
       "      <td>0</td>\n",
       "      <td>14748</td>\n",
       "      <td>596.0</td>\n",
       "      <td>4</td>\n",
       "    </tr>\n",
       "    <tr>\n",
       "      <th>...</th>\n",
       "      <td>...</td>\n",
       "      <td>...</td>\n",
       "      <td>...</td>\n",
       "      <td>...</td>\n",
       "    </tr>\n",
       "    <tr>\n",
       "      <th>96632</th>\n",
       "      <td>33</td>\n",
       "      <td>8757</td>\n",
       "      <td>498.0</td>\n",
       "      <td>2</td>\n",
       "    </tr>\n",
       "    <tr>\n",
       "      <th>96633</th>\n",
       "      <td>33</td>\n",
       "      <td>8766</td>\n",
       "      <td>845.0</td>\n",
       "      <td>4</td>\n",
       "    </tr>\n",
       "    <tr>\n",
       "      <th>96634</th>\n",
       "      <td>33</td>\n",
       "      <td>8778</td>\n",
       "      <td>676.0</td>\n",
       "      <td>4</td>\n",
       "    </tr>\n",
       "    <tr>\n",
       "      <th>96628</th>\n",
       "      <td>33</td>\n",
       "      <td>8736</td>\n",
       "      <td>4196.0</td>\n",
       "      <td>4</td>\n",
       "    </tr>\n",
       "    <tr>\n",
       "      <th>98109</th>\n",
       "      <td>33</td>\n",
       "      <td>22164</td>\n",
       "      <td>549.0</td>\n",
       "      <td>1</td>\n",
       "    </tr>\n",
       "  </tbody>\n",
       "</table>\n",
       "<p>98110 rows × 4 columns</p>\n",
       "</div>"
      ],
      "text/plain": [
       "       date_block_num  item_id  total_item_amount_sold  item_cnt_day\n",
       "0                   0       27                  2499.0             1\n",
       "2210                0    14733                   149.0             1\n",
       "2211                0    14738                   349.0             1\n",
       "2212                0    14743                   298.0             2\n",
       "2213                0    14748                   596.0             4\n",
       "...               ...      ...                     ...           ...\n",
       "96632              33     8757                   498.0             2\n",
       "96633              33     8766                   845.0             4\n",
       "96634              33     8778                   676.0             4\n",
       "96628              33     8736                  4196.0             4\n",
       "98109              33    22164                   549.0             1\n",
       "\n",
       "[98110 rows x 4 columns]"
      ]
     },
     "execution_count": 104,
     "metadata": {},
     "output_type": "execute_result"
    }
   ],
   "source": [
    "shop_31_df_"
   ]
  }
 ],
 "metadata": {
  "kernelspec": {
   "display_name": "Python 3 (ipykernel)",
   "language": "python",
   "name": "python3"
  },
  "language_info": {
   "codemirror_mode": {
    "name": "ipython",
    "version": 3
   },
   "file_extension": ".py",
   "mimetype": "text/x-python",
   "name": "python",
   "nbconvert_exporter": "python",
   "pygments_lexer": "ipython3",
   "version": "3.8.12"
  }
 },
 "nbformat": 4,
 "nbformat_minor": 5
}
