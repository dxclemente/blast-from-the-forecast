{
 "cells": [
  {
   "cell_type": "code",
   "execution_count": 1,
   "id": "e3e960cb-6b51-4f58-b30b-be5400f84f60",
   "metadata": {},
   "outputs": [],
   "source": [
    "from tensorflow.keras.preprocessing.sequence import pad_sequences"
   ]
  },
  {
   "cell_type": "code",
   "execution_count": 24,
   "id": "224cd82a-72c4-4ce6-99d5-70fca8ded6ad",
   "metadata": {},
   "outputs": [],
   "source": [
    "import xgboost as xgb\n",
    "from statsmodels.tsa.arima.model import ARIMA\n",
    "import pmdarima as pm\n",
    "from statsmodels.tsa.statespace.sarimax import SARIMAX\n"
   ]
  },
  {
   "cell_type": "code",
   "execution_count": 2,
   "id": "b89e958d-f5a5-41ec-97fa-6cad06b4379a",
   "metadata": {
    "tags": []
   },
   "outputs": [],
   "source": [
    "import pandas as pd\n",
    "import numpy as np\n",
    "import matplotlib.pyplot as plt\n",
    "import seaborn as sns\n",
    "import os\n",
    "from sqlalchemy import create_engine\n",
    "from dotenv import load_dotenv\n",
    "import psycopg2\n"
   ]
  },
  {
   "cell_type": "markdown",
   "id": "9c3f1b96-74a9-4819-b0dd-5be8df27f6b4",
   "metadata": {
    "tags": []
   },
   "source": [
    "## Load data from Postgres"
   ]
  },
  {
   "cell_type": "code",
   "execution_count": 3,
   "id": "284c5c2b-c74b-4132-b5b7-99cc63524808",
   "metadata": {},
   "outputs": [],
   "source": [
    "# Set postgres credentials\n",
    "\n",
    "load_dotenv()\n",
    "user = os.getenv('DB_USER')\n",
    "password = os.getenv('DB_PASSWORD')\n",
    "host = os.getenv('DB_HOST')\n",
    "port = os.getenv('DB_PORT')\n",
    "db = os.getenv('DB')"
   ]
  },
  {
   "cell_type": "code",
   "execution_count": 4,
   "id": "c24f5686-e041-45eb-87ed-77e50e733163",
   "metadata": {},
   "outputs": [],
   "source": [
    "# A long string that contains the necessary Postgres login information\n",
    "postgres_str = ('postgresql://{username}:{password}@{ipaddress}:{port}/{dbname}'\n",
    "                .format(username=user,\n",
    "                        password=password,\n",
    "                        ipaddress=host,\n",
    "                        port=port,\n",
    "                        dbname=db))\n",
    "cnx = create_engine(postgres_str)"
   ]
  },
  {
   "cell_type": "code",
   "execution_count": 5,
   "id": "7013aac0-a8de-4f7e-958c-2c87e05e61a2",
   "metadata": {},
   "outputs": [
    {
     "data": {
      "text/plain": [
       "['test',\n",
       " 'shops',\n",
       " 'sample_submission',\n",
       " 'item_categories',\n",
       " 'sales_train',\n",
       " 'shops_en',\n",
       " 'item_categories_en',\n",
       " 'items_en',\n",
       " 'items',\n",
       " 'cleaning_store_id',\n",
       " 'cleaning_item_category_id']"
      ]
     },
     "execution_count": 5,
     "metadata": {},
     "output_type": "execute_result"
    }
   ],
   "source": [
    "# List DB tables\n",
    "conn = psycopg2.connect(postgres_str)\n",
    "cursor = conn.cursor()\n",
    "cursor.execute(\"\"\"SELECT relname FROM pg_class WHERE relkind='r'\n",
    "                  AND relname !~ '^(pg_|sql_)';\"\"\") # \"rel\" is short for relation.\n",
    "\n",
    "tables_list = [i[0] for i in cursor.fetchall()] # A list() of tables.\n",
    "tables_list #check available tables"
   ]
  },
  {
   "cell_type": "code",
   "execution_count": 6,
   "id": "0e4b1f44-eb41-4a23-97c9-3c08a1c88123",
   "metadata": {},
   "outputs": [],
   "source": [
    "# Load datasets\n",
    "shops_df = pd.read_sql_query('''SELECT * FROM shops_en;''', cnx)\n",
    "item_categories_df = pd.read_sql_query('''SELECT * FROM item_categories_en;''', cnx)\n",
    "test_df = pd.read_sql_query('''SELECT * FROM test;''', cnx)\n",
    "sales_train_df = pd.read_sql_query('''SELECT * FROM sales_train;''', cnx)\n",
    "items_df = pd.read_sql_query('''SELECT * FROM items_en;''', cnx)"
   ]
  },
  {
   "cell_type": "code",
   "execution_count": 7,
   "id": "f1b42b1b-0691-4386-8de2-10b230ef5397",
   "metadata": {},
   "outputs": [
    {
     "name": "stdout",
     "output_type": "stream",
     "text": [
      "<class 'pandas.core.frame.DataFrame'>\n",
      "RangeIndex: 22170 entries, 0 to 22169\n",
      "Data columns (total 3 columns):\n",
      " #   Column            Non-Null Count  Dtype \n",
      "---  ------            --------------  ----- \n",
      " 0   item_name         22170 non-null  object\n",
      " 1   item_id           22170 non-null  int64 \n",
      " 2   item_category_id  22170 non-null  int64 \n",
      "dtypes: int64(2), object(1)\n",
      "memory usage: 519.7+ KB\n"
     ]
    },
    {
     "data": {
      "text/plain": [
       "date              0\n",
       "date_block_num    0\n",
       "shop_id           0\n",
       "item_id           0\n",
       "item_price        0\n",
       "item_cnt_day      0\n",
       "dtype: int64"
      ]
     },
     "execution_count": 7,
     "metadata": {},
     "output_type": "execute_result"
    }
   ],
   "source": [
    "items_df.info()\n",
    "sales_train_df.isnull().sum() # check for NaN values"
   ]
  },
  {
   "cell_type": "markdown",
   "id": "1f50ab77-84f6-4d6f-84fa-04c69f44b59d",
   "metadata": {
    "tags": []
   },
   "source": [
    "## Preprocessing"
   ]
  },
  {
   "cell_type": "code",
   "execution_count": 8,
   "id": "4f5d56e0-c81e-4b1b-b63f-39687d3d2ab4",
   "metadata": {},
   "outputs": [],
   "source": [
    "# Merge with categories to get the Ids\n",
    "sales_train_df = pd.merge(sales_train_df, items_df, left_on='item_id', right_on='item_id', how='left')\n",
    "\n",
    "# Drop column that contais the item_name\n",
    "sales_train_df.drop(labels='item_name', axis=1, inplace=True)"
   ]
  },
  {
   "cell_type": "code",
   "execution_count": 9,
   "id": "03903254-d665-41e9-ac0a-ef65a2939869",
   "metadata": {},
   "outputs": [],
   "source": [
    "# Set date to YYYY/mm/dd\n",
    "sales_train_df['date'] = pd.to_datetime(sales_train_df['date'], format='%d.%m.%Y')\n",
    "\n",
    "# Drop duplicates\n",
    "sales_train_df.drop_duplicates(inplace=True)"
   ]
  },
  {
   "cell_type": "code",
   "execution_count": 10,
   "id": "c41db1c2-a57b-4f68-96ce-0f38a64412db",
   "metadata": {},
   "outputs": [],
   "source": [
    "# Filtered shop_id\n",
    "sales_train_df_31 = sales_train_df[sales_train_df['shop_id'] == 31]"
   ]
  },
  {
   "cell_type": "code",
   "execution_count": 11,
   "id": "351bfe93-3e6c-4ba6-aa7f-e1cf5ab916a4",
   "metadata": {},
   "outputs": [],
   "source": [
    "# Sorted date in ascending order\n",
    "sales_train_df_31 = sales_train_df_31.sort_values(by='date', ascending=True, na_position='first')"
   ]
  },
  {
   "cell_type": "code",
   "execution_count": 12,
   "id": "a2f8070d-2dc3-49d1-aaf5-e08f6064fa99",
   "metadata": {},
   "outputs": [
    {
     "name": "stderr",
     "output_type": "stream",
     "text": [
      "/var/folders/jd/69j4d5lx4s9dg3b1d0bfcxx80000gp/T/ipykernel_4585/1075818176.py:2: UserWarning: Boolean Series key will be reindexed to match DataFrame index.\n",
      "  sales_train_df_31 = sales_train_df_31[~sales_train_df['item_category_id'].isin([0, 1,10,13,32,39,42,46,50,51,52,53,59,66,68,82])]\n"
     ]
    }
   ],
   "source": [
    "# Filtered item_category_id\n",
    "sales_train_df_31 = sales_train_df_31[~sales_train_df['item_category_id'].isin([0, 1,10,13,32,39,42,46,50,51,52,53,59,66,68,82])]"
   ]
  },
  {
   "cell_type": "code",
   "execution_count": 13,
   "id": "6d0d8e50-e4d3-4965-a90e-2eed2def4c5e",
   "metadata": {},
   "outputs": [
    {
     "data": {
      "text/html": [
       "<div><div id=2fe31fb5-ec58-46c3-951a-3187a19c493e style=\"display:none; background-color:#9D6CFF; color:white; width:200px; height:30px; padding-left:5px; border-radius:4px; flex-direction:row; justify-content:space-around; align-items:center;\" onmouseover=\"this.style.backgroundColor='#BA9BF8'\" onmouseout=\"this.style.backgroundColor='#9D6CFF'\" onclick=\"window.commands?.execute('create-mitosheet-from-dataframe-output');\">See Full Dataframe in Mito</div> <script> if (window.commands?.hasCommand('create-mitosheet-from-dataframe-output')) document.getElementById('2fe31fb5-ec58-46c3-951a-3187a19c493e').style.display = 'flex' </script> <table border=\"1\" class=\"dataframe\">\n",
       "  <thead>\n",
       "    <tr style=\"text-align: right;\">\n",
       "      <th></th>\n",
       "      <th>date</th>\n",
       "      <th>date_block_num</th>\n",
       "      <th>shop_id</th>\n",
       "      <th>item_id</th>\n",
       "      <th>item_price</th>\n",
       "      <th>item_cnt_day</th>\n",
       "      <th>item_category_id</th>\n",
       "    </tr>\n",
       "  </thead>\n",
       "  <tbody>\n",
       "    <tr>\n",
       "      <th>60440</th>\n",
       "      <td>2013-01-02</td>\n",
       "      <td>0</td>\n",
       "      <td>31</td>\n",
       "      <td>4248</td>\n",
       "      <td>1993.12</td>\n",
       "      <td>1.0</td>\n",
       "      <td>23</td>\n",
       "    </tr>\n",
       "    <tr>\n",
       "      <th>72614</th>\n",
       "      <td>2013-01-02</td>\n",
       "      <td>0</td>\n",
       "      <td>31</td>\n",
       "      <td>17241</td>\n",
       "      <td>347.11</td>\n",
       "      <td>1.0</td>\n",
       "      <td>40</td>\n",
       "    </tr>\n",
       "    <tr>\n",
       "      <th>71078</th>\n",
       "      <td>2013-01-02</td>\n",
       "      <td>0</td>\n",
       "      <td>31</td>\n",
       "      <td>15060</td>\n",
       "      <td>399.00</td>\n",
       "      <td>1.0</td>\n",
       "      <td>30</td>\n",
       "    </tr>\n",
       "    <tr>\n",
       "      <th>63528</th>\n",
       "      <td>2013-01-02</td>\n",
       "      <td>0</td>\n",
       "      <td>31</td>\n",
       "      <td>7893</td>\n",
       "      <td>1980.00</td>\n",
       "      <td>1.0</td>\n",
       "      <td>6</td>\n",
       "    </tr>\n",
       "    <tr>\n",
       "      <th>71610</th>\n",
       "      <td>2013-01-02</td>\n",
       "      <td>0</td>\n",
       "      <td>31</td>\n",
       "      <td>11854</td>\n",
       "      <td>199.00</td>\n",
       "      <td>1.0</td>\n",
       "      <td>63</td>\n",
       "    </tr>\n",
       "    <tr>\n",
       "      <th>...</th>\n",
       "      <td>...</td>\n",
       "      <td>...</td>\n",
       "      <td>...</td>\n",
       "      <td>...</td>\n",
       "      <td>...</td>\n",
       "      <td>...</td>\n",
       "      <td>...</td>\n",
       "    </tr>\n",
       "    <tr>\n",
       "      <th>2925574</th>\n",
       "      <td>2015-10-31</td>\n",
       "      <td>33</td>\n",
       "      <td>31</td>\n",
       "      <td>8478</td>\n",
       "      <td>349.00</td>\n",
       "      <td>1.0</td>\n",
       "      <td>43</td>\n",
       "    </tr>\n",
       "    <tr>\n",
       "      <th>2928312</th>\n",
       "      <td>2015-10-31</td>\n",
       "      <td>33</td>\n",
       "      <td>31</td>\n",
       "      <td>3713</td>\n",
       "      <td>1999.00</td>\n",
       "      <td>1.0</td>\n",
       "      <td>23</td>\n",
       "    </tr>\n",
       "    <tr>\n",
       "      <th>2890918</th>\n",
       "      <td>2015-10-31</td>\n",
       "      <td>33</td>\n",
       "      <td>31</td>\n",
       "      <td>12974</td>\n",
       "      <td>249.00</td>\n",
       "      <td>1.0</td>\n",
       "      <td>55</td>\n",
       "    </tr>\n",
       "    <tr>\n",
       "      <th>2928073</th>\n",
       "      <td>2015-10-31</td>\n",
       "      <td>33</td>\n",
       "      <td>31</td>\n",
       "      <td>2955</td>\n",
       "      <td>932.67</td>\n",
       "      <td>1.0</td>\n",
       "      <td>19</td>\n",
       "    </tr>\n",
       "    <tr>\n",
       "      <th>2925671</th>\n",
       "      <td>2015-10-31</td>\n",
       "      <td>33</td>\n",
       "      <td>31</td>\n",
       "      <td>8538</td>\n",
       "      <td>399.00</td>\n",
       "      <td>1.0</td>\n",
       "      <td>43</td>\n",
       "    </tr>\n",
       "  </tbody>\n",
       "</table></div>"
      ],
      "text/plain": [
       "              date  date_block_num  shop_id  item_id  item_price  \\\n",
       "60440   2013-01-02               0       31     4248     1993.12   \n",
       "72614   2013-01-02               0       31    17241      347.11   \n",
       "71078   2013-01-02               0       31    15060      399.00   \n",
       "63528   2013-01-02               0       31     7893     1980.00   \n",
       "71610   2013-01-02               0       31    11854      199.00   \n",
       "...            ...             ...      ...      ...         ...   \n",
       "2925574 2015-10-31              33       31     8478      349.00   \n",
       "2928312 2015-10-31              33       31     3713     1999.00   \n",
       "2890918 2015-10-31              33       31    12974      249.00   \n",
       "2928073 2015-10-31              33       31     2955      932.67   \n",
       "2925671 2015-10-31              33       31     8538      399.00   \n",
       "\n",
       "         item_cnt_day  item_category_id  \n",
       "60440             1.0                23  \n",
       "72614             1.0                40  \n",
       "71078             1.0                30  \n",
       "63528             1.0                 6  \n",
       "71610             1.0                63  \n",
       "...               ...               ...  \n",
       "2925574           1.0                43  \n",
       "2928312           1.0                23  \n",
       "2890918           1.0                55  \n",
       "2928073           1.0                19  \n",
       "2925671           1.0                43  \n",
       "\n",
       "[233790 rows x 7 columns]"
      ]
     },
     "execution_count": 13,
     "metadata": {},
     "output_type": "execute_result"
    }
   ],
   "source": [
    "sales_train_df_31"
   ]
  },
  {
   "cell_type": "code",
   "execution_count": 14,
   "id": "f61875c2-0563-4c4c-9283-e74e8b43ba2b",
   "metadata": {},
   "outputs": [],
   "source": [
    "#sales_31_group = sales_train_df_31.groupby(['date_block_num','month']).agg({'score': 'sum', 'num_attempts': 'sum'})"
   ]
  },
  {
   "cell_type": "code",
   "execution_count": 15,
   "id": "48fb7505-74a7-44a2-a26f-6b5646d9bf28",
   "metadata": {},
   "outputs": [
    {
     "data": {
      "text/plain": [
       "(233790, 7)"
      ]
     },
     "execution_count": 15,
     "metadata": {},
     "output_type": "execute_result"
    }
   ],
   "source": [
    "sales_train_df_31.shape"
   ]
  },
  {
   "cell_type": "code",
   "execution_count": 16,
   "id": "022ce648-af30-45d3-bd14-febeec71d44f",
   "metadata": {},
   "outputs": [
    {
     "data": {
      "text/plain": [
       "163653.0"
      ]
     },
     "execution_count": 16,
     "metadata": {},
     "output_type": "execute_result"
    }
   ],
   "source": [
    "233790*.7"
   ]
  },
  {
   "cell_type": "code",
   "execution_count": 18,
   "id": "0f0ee57d-7b36-4fc1-84db-6ad40416eca3",
   "metadata": {},
   "outputs": [
    {
     "name": "stderr",
     "output_type": "stream",
     "text": [
      "/var/folders/jd/69j4d5lx4s9dg3b1d0bfcxx80000gp/T/ipykernel_4585/3336605438.py:1: FutureWarning: The behavior of `series[i:j]` with an integer-dtype index is deprecated. In a future version, this will be treated as *label-based* indexing, consistent with e.g. `series[i]` lookups. To retain the old behavior, use `series.iloc[i:j]`. To get the future behavior, use `series.loc[i:j]`.\n",
      "  train = sales_train_df_31.item_cnt_day[0:163653]\n",
      "/var/folders/jd/69j4d5lx4s9dg3b1d0bfcxx80000gp/T/ipykernel_4585/3336605438.py:2: FutureWarning: The behavior of `series[i:j]` with an integer-dtype index is deprecated. In a future version, this will be treated as *label-based* indexing, consistent with e.g. `series[i]` lookups. To retain the old behavior, use `series.iloc[i:j]`. To get the future behavior, use `series.loc[i:j]`.\n",
      "  test = sales_train_df_31.item_cnt_day[163653:]\n"
     ]
    }
   ],
   "source": [
    "train = sales_train_df_31.item_cnt_day[0:163653]\n",
    "test = sales_train_df_31.item_cnt_day[163653:]"
   ]
  },
  {
   "cell_type": "code",
   "execution_count": 25,
   "id": "9d38b0a6-2f7d-4544-8618-ea62b021e9bf",
   "metadata": {},
   "outputs": [
    {
     "name": "stdout",
     "output_type": "stream",
     "text": [
      "Performing stepwise search to minimize aic\n",
      " ARIMA(0,1,0)(0,0,0)[4] intercept   : AIC=842668.853, Time=3.03 sec\n",
      " ARIMA(1,1,0)(1,0,0)[4] intercept   : AIC=795058.550, Time=11.51 sec\n",
      " ARIMA(0,1,1)(0,0,1)[4] intercept   : AIC=inf, Time=112.64 sec\n",
      " ARIMA(0,1,0)(0,0,0)[4]             : AIC=842666.853, Time=1.64 sec\n",
      " ARIMA(1,1,0)(0,0,0)[4] intercept   : AIC=795059.757, Time=3.56 sec\n",
      " ARIMA(1,1,0)(2,0,0)[4] intercept   : AIC=795046.630, Time=29.00 sec\n",
      " ARIMA(1,1,0)(2,0,1)[4] intercept   : AIC=795048.605, Time=40.45 sec\n",
      " ARIMA(1,1,0)(1,0,1)[4] intercept   : AIC=795060.487, Time=18.26 sec\n",
      " ARIMA(0,1,0)(2,0,0)[4] intercept   : AIC=842528.643, Time=22.09 sec\n",
      " ARIMA(1,1,1)(2,0,0)[4] intercept   : AIC=inf, Time=237.74 sec\n",
      " ARIMA(0,1,1)(2,0,0)[4] intercept   : AIC=inf, Time=234.42 sec\n",
      " ARIMA(1,1,0)(2,0,0)[4]             : AIC=795044.630, Time=13.29 sec\n",
      " ARIMA(1,1,0)(1,0,0)[4]             : AIC=795056.550, Time=6.19 sec\n",
      " ARIMA(1,1,0)(2,0,1)[4]             : AIC=795046.605, Time=17.69 sec\n",
      " ARIMA(1,1,0)(1,0,1)[4]             : AIC=795058.487, Time=8.05 sec\n",
      " ARIMA(0,1,0)(2,0,0)[4]             : AIC=842526.642, Time=8.15 sec\n",
      " ARIMA(1,1,1)(2,0,0)[4]             : AIC=inf, Time=49.56 sec\n",
      " ARIMA(0,1,1)(2,0,0)[4]             : AIC=inf, Time=34.10 sec\n",
      "\n",
      "Best model:  ARIMA(1,1,0)(2,0,0)[4]          \n",
      "Total fit time: 852.262 seconds\n"
     ]
    }
   ],
   "source": [
    "smodel = pm.auto_arima(train, seasonal=True, m=4, \n",
    "                       start_p=0, max_p=1, max_d=1, start_q=0, max_q=1,\n",
    "                       start_P=0, max_P=2, max_D=1, start_Q=0, max_Q=2, \n",
    "                       trace=True, error_action='ignore', suppress_warnings=True)"
   ]
  },
  {
   "cell_type": "code",
   "execution_count": 26,
   "id": "4f701e42-8609-454b-9606-8d08131b5417",
   "metadata": {},
   "outputs": [
    {
     "name": "stderr",
     "output_type": "stream",
     "text": [
      "/Users/eduardocampos/.pyenv/versions/3.8.12/envs/blast-from-the-forecast/lib/python3.8/site-packages/statsmodels/tsa/base/tsa_model.py:471: ValueWarning: An unsupported index was provided and will be ignored when e.g. forecasting.\n",
      "  self._init_dates(dates, freq)\n",
      "/Users/eduardocampos/.pyenv/versions/3.8.12/envs/blast-from-the-forecast/lib/python3.8/site-packages/statsmodels/tsa/base/tsa_model.py:471: ValueWarning: An unsupported index was provided and will be ignored when e.g. forecasting.\n",
      "  self._init_dates(dates, freq)\n",
      " This problem is unconstrained.\n"
     ]
    },
    {
     "name": "stdout",
     "output_type": "stream",
     "text": [
      "RUNNING THE L-BFGS-B CODE\n",
      "\n",
      "           * * *\n",
      "\n",
      "Machine precision = 2.220D-16\n",
      " N =            4     M =           10\n",
      "\n",
      "At X0         0 variables are exactly at the bounds\n",
      "\n",
      "At iterate    0    f=  2.42923D+00    |proj g|=  1.97120D-02\n",
      "\n",
      "           * * *\n",
      "\n",
      "Tit   = total number of iterations\n",
      "Tnf   = total number of function evaluations\n",
      "Tnint = total number of segments explored during Cauchy searches\n",
      "Skip  = number of BFGS updates skipped\n",
      "Nact  = number of active bounds at final generalized Cauchy point\n",
      "Projg = norm of the final projected gradient\n",
      "F     = final function value\n",
      "\n",
      "           * * *\n",
      "\n",
      "   N    Tit     Tnf  Tnint  Skip  Nact     Projg        F\n",
      "    4      4      6      1     0     0   9.489D-06   2.429D+00\n",
      "  F =   2.4290316413103223     \n",
      "\n",
      "CONVERGENCE: NORM_OF_PROJECTED_GRADIENT_<=_PGTOL            \n"
     ]
    }
   ],
   "source": [
    "# Build Model\n",
    "sarima = SARIMAX(train, order=(1, 1, 0), seasonal_order=(2, 0, 0, 4))\n",
    "sarima = sarima.fit(maxiter=75)"
   ]
  },
  {
   "cell_type": "code",
   "execution_count": 27,
   "id": "97fa8cd5-1801-4633-8284-7d9a0f15f9f5",
   "metadata": {},
   "outputs": [
    {
     "name": "stderr",
     "output_type": "stream",
     "text": [
      "/Users/eduardocampos/.pyenv/versions/3.8.12/envs/blast-from-the-forecast/lib/python3.8/site-packages/statsmodels/tsa/base/tsa_model.py:834: ValueWarning: No supported index is available. Prediction results will be given with an integer index beginning at `start`.\n",
      "  return get_prediction_index(\n"
     ]
    }
   ],
   "source": [
    "# Forecast\n",
    "results = sarima.get_forecast(len(test), alpha=0.05)\n",
    "forecast = results.predicted_mean\n",
    "confidence_int = results.conf_int()"
   ]
  },
  {
   "cell_type": "code",
   "execution_count": 28,
   "id": "9241b634-2e37-4a1b-940d-4fc8e7e76cf1",
   "metadata": {},
   "outputs": [
    {
     "data": {
      "text/plain": [
       "233785    1.656727\n",
       "233786    1.656727\n",
       "233787    1.656727\n",
       "233788    1.656727\n",
       "233789    1.656727\n",
       "Name: predicted_mean, dtype: float64"
      ]
     },
     "execution_count": 28,
     "metadata": {},
     "output_type": "execute_result"
    }
   ],
   "source": [
    "forecast.tail()"
   ]
  },
  {
   "cell_type": "code",
   "execution_count": 30,
   "id": "ba76a35a-4387-4be8-a906-c8af6dd37232",
   "metadata": {},
   "outputs": [
    {
     "data": {
      "text/html": [
       "<div><div id=7415e618-53d0-469c-a0de-b24302b5ef8e style=\"display:none; background-color:#9D6CFF; color:white; width:200px; height:30px; padding-left:5px; border-radius:4px; flex-direction:row; justify-content:space-around; align-items:center;\" onmouseover=\"this.style.backgroundColor='#BA9BF8'\" onmouseout=\"this.style.backgroundColor='#9D6CFF'\" onclick=\"window.commands?.execute('create-mitosheet-from-dataframe-output');\">See Full Dataframe in Mito</div> <script> if (window.commands?.hasCommand('create-mitosheet-from-dataframe-output')) document.getElementById('7415e618-53d0-469c-a0de-b24302b5ef8e').style.display = 'flex' </script> <table border=\"1\" class=\"dataframe\">\n",
       "  <thead>\n",
       "    <tr style=\"text-align: right;\">\n",
       "      <th></th>\n",
       "      <th>date</th>\n",
       "      <th>date_block_num</th>\n",
       "      <th>shop_id</th>\n",
       "      <th>item_id</th>\n",
       "      <th>item_price</th>\n",
       "      <th>item_cnt_day</th>\n",
       "      <th>item_category_id</th>\n",
       "    </tr>\n",
       "  </thead>\n",
       "  <tbody>\n",
       "    <tr>\n",
       "      <th>2928632</th>\n",
       "      <td>2015-10-31</td>\n",
       "      <td>33</td>\n",
       "      <td>31</td>\n",
       "      <td>1583</td>\n",
       "      <td>3999.00</td>\n",
       "      <td>2.0</td>\n",
       "      <td>20</td>\n",
       "    </tr>\n",
       "    <tr>\n",
       "      <th>2925648</th>\n",
       "      <td>2015-10-31</td>\n",
       "      <td>33</td>\n",
       "      <td>31</td>\n",
       "      <td>8327</td>\n",
       "      <td>399.00</td>\n",
       "      <td>1.0</td>\n",
       "      <td>40</td>\n",
       "    </tr>\n",
       "    <tr>\n",
       "      <th>2925649</th>\n",
       "      <td>2015-10-31</td>\n",
       "      <td>33</td>\n",
       "      <td>31</td>\n",
       "      <td>8219</td>\n",
       "      <td>249.00</td>\n",
       "      <td>2.0</td>\n",
       "      <td>55</td>\n",
       "    </tr>\n",
       "    <tr>\n",
       "      <th>2925666</th>\n",
       "      <td>2015-10-31</td>\n",
       "      <td>33</td>\n",
       "      <td>31</td>\n",
       "      <td>8528</td>\n",
       "      <td>850.00</td>\n",
       "      <td>1.0</td>\n",
       "      <td>75</td>\n",
       "    </tr>\n",
       "    <tr>\n",
       "      <th>2889246</th>\n",
       "      <td>2015-10-31</td>\n",
       "      <td>33</td>\n",
       "      <td>31</td>\n",
       "      <td>20609</td>\n",
       "      <td>1099.00</td>\n",
       "      <td>1.0</td>\n",
       "      <td>72</td>\n",
       "    </tr>\n",
       "    <tr>\n",
       "      <th>...</th>\n",
       "      <td>...</td>\n",
       "      <td>...</td>\n",
       "      <td>...</td>\n",
       "      <td>...</td>\n",
       "      <td>...</td>\n",
       "      <td>...</td>\n",
       "      <td>...</td>\n",
       "    </tr>\n",
       "    <tr>\n",
       "      <th>2925574</th>\n",
       "      <td>2015-10-31</td>\n",
       "      <td>33</td>\n",
       "      <td>31</td>\n",
       "      <td>8478</td>\n",
       "      <td>349.00</td>\n",
       "      <td>1.0</td>\n",
       "      <td>43</td>\n",
       "    </tr>\n",
       "    <tr>\n",
       "      <th>2928312</th>\n",
       "      <td>2015-10-31</td>\n",
       "      <td>33</td>\n",
       "      <td>31</td>\n",
       "      <td>3713</td>\n",
       "      <td>1999.00</td>\n",
       "      <td>1.0</td>\n",
       "      <td>23</td>\n",
       "    </tr>\n",
       "    <tr>\n",
       "      <th>2890918</th>\n",
       "      <td>2015-10-31</td>\n",
       "      <td>33</td>\n",
       "      <td>31</td>\n",
       "      <td>12974</td>\n",
       "      <td>249.00</td>\n",
       "      <td>1.0</td>\n",
       "      <td>55</td>\n",
       "    </tr>\n",
       "    <tr>\n",
       "      <th>2928073</th>\n",
       "      <td>2015-10-31</td>\n",
       "      <td>33</td>\n",
       "      <td>31</td>\n",
       "      <td>2955</td>\n",
       "      <td>932.67</td>\n",
       "      <td>1.0</td>\n",
       "      <td>19</td>\n",
       "    </tr>\n",
       "    <tr>\n",
       "      <th>2925671</th>\n",
       "      <td>2015-10-31</td>\n",
       "      <td>33</td>\n",
       "      <td>31</td>\n",
       "      <td>8538</td>\n",
       "      <td>399.00</td>\n",
       "      <td>1.0</td>\n",
       "      <td>43</td>\n",
       "    </tr>\n",
       "  </tbody>\n",
       "</table></div>"
      ],
      "text/plain": [
       "              date  date_block_num  shop_id  item_id  item_price  \\\n",
       "2928632 2015-10-31              33       31     1583     3999.00   \n",
       "2925648 2015-10-31              33       31     8327      399.00   \n",
       "2925649 2015-10-31              33       31     8219      249.00   \n",
       "2925666 2015-10-31              33       31     8528      850.00   \n",
       "2889246 2015-10-31              33       31    20609     1099.00   \n",
       "2890492 2015-10-31              33       31    15256      399.00   \n",
       "2925609 2015-10-31              33       31     8148      149.00   \n",
       "2888927 2015-10-31              33       31    22005      169.00   \n",
       "2926994 2015-10-31              33       31    10327      299.00   \n",
       "2928193 2015-10-31              33       31     4054     2499.00   \n",
       "2890771 2015-10-31              33       31    13300      539.00   \n",
       "2926592 2015-10-31              33       31     9541      399.00   \n",
       "2926997 2015-10-31              33       31    10330      299.00   \n",
       "2925744 2015-10-31              33       31     5821     1099.00   \n",
       "2888873 2015-10-31              33       31    22087      119.00   \n",
       "2925773 2015-10-31              33       31     5490     1349.00   \n",
       "2888862 2015-10-31              33       31    22006      169.00   \n",
       "2890767 2015-10-31              33       31    13294      429.00   \n",
       "2925789 2015-10-31              33       31     4387     2599.00   \n",
       "2925694 2015-10-31              33       31     5041     3999.00   \n",
       "2926632 2015-10-31              33       31     9927      399.00   \n",
       "2890924 2015-10-31              33       31    13593     2299.00   \n",
       "2925592 2015-10-31              33       31     8462      349.00   \n",
       "2891357 2015-10-31              33       31    17888      399.00   \n",
       "2925394 2015-10-31              33       31     6308      299.00   \n",
       "2890890 2015-10-31              33       31    13880      229.00   \n",
       "2925411 2015-10-31              33       31     7007      999.00   \n",
       "2925413 2015-10-31              33       31     7135     2199.00   \n",
       "2926703 2015-10-31              33       31     8902      299.00   \n",
       "2925422 2015-10-31              33       31     7213     1199.00   \n",
       "2891335 2015-10-31              33       31    17747      288.00   \n",
       "2890799 2015-10-31              33       31    13590     2199.00   \n",
       "2926962 2015-10-31              33       31    10343      169.00   \n",
       "2925453 2015-10-31              33       31     6505     1499.00   \n",
       "2926686 2015-10-31              33       31     9356      399.00   \n",
       "2926683 2015-10-31              33       31     9355      349.00   \n",
       "2889399 2015-10-31              33       31    19884      229.00   \n",
       "2925473 2015-10-31              33       31     8699      249.00   \n",
       "2926973 2015-10-31              33       31    10348      169.00   \n",
       "2925508 2015-10-31              33       31     8397      399.00   \n",
       "2891306 2015-10-31              33       31    17581      399.00   \n",
       "2925541 2015-10-31              33       31     8735      499.00   \n",
       "2928078 2015-10-31              33       31     2919      932.67   \n",
       "2925561 2015-10-31              33       31     8754      149.00   \n",
       "2926643 2015-10-31              33       31    10211     3499.00   \n",
       "2925574 2015-10-31              33       31     8478      349.00   \n",
       "2928312 2015-10-31              33       31     3713     1999.00   \n",
       "2890918 2015-10-31              33       31    12974      249.00   \n",
       "2928073 2015-10-31              33       31     2955      932.67   \n",
       "2925671 2015-10-31              33       31     8538      399.00   \n",
       "\n",
       "         item_cnt_day  item_category_id  \n",
       "2928632           2.0                20  \n",
       "2925648           1.0                40  \n",
       "2925649           2.0                55  \n",
       "2925666           1.0                75  \n",
       "2889246           1.0                72  \n",
       "2890492           1.0                63  \n",
       "2925609           1.0                40  \n",
       "2888927           1.0                40  \n",
       "2926994           1.0                37  \n",
       "2928193           2.0                19  \n",
       "2890771           1.0                47  \n",
       "2926592           1.0                55  \n",
       "2926997           1.0                37  \n",
       "2925744           1.0                35  \n",
       "2888873           1.0                83  \n",
       "2925773           1.0                56  \n",
       "2888862           1.0                40  \n",
       "2890767           2.0                47  \n",
       "2925789           1.0                19  \n",
       "2925694           1.0                20  \n",
       "2926632           2.0                40  \n",
       "2890924           1.0                61  \n",
       "2925592           1.0                43  \n",
       "2891357           1.0                40  \n",
       "2925394           1.0                55  \n",
       "2890890           1.0                55  \n",
       "2925411           1.0                23  \n",
       "2925413           1.0                23  \n",
       "2926703           1.0                37  \n",
       "2925422           1.0                19  \n",
       "2891335           1.0                70  \n",
       "2890799           1.0                61  \n",
       "2926962           1.0                40  \n",
       "2925453           1.0                28  \n",
       "2926686           1.0                70  \n",
       "2926683           1.0                70  \n",
       "2889399           1.0                55  \n",
       "2925473           1.0                40  \n",
       "2926973           1.0                40  \n",
       "2925508           1.0                40  \n",
       "2891306           2.0                40  \n",
       "2925541           1.0                40  \n",
       "2928078           1.0                19  \n",
       "2925561           1.0                40  \n",
       "2926643           1.0                24  \n",
       "2925574           1.0                43  \n",
       "2928312           1.0                23  \n",
       "2890918           1.0                55  \n",
       "2928073           1.0                19  \n",
       "2925671           1.0                43  "
      ]
     },
     "execution_count": 30,
     "metadata": {},
     "output_type": "execute_result"
    }
   ],
   "source": [
    "sales_train_df_31.tail(50)"
   ]
  },
  {
   "cell_type": "code",
   "execution_count": null,
   "id": "83e0f461-21b6-44f8-9e88-bb48400f9ba0",
   "metadata": {},
   "outputs": [],
   "source": []
  },
  {
   "cell_type": "code",
   "execution_count": null,
   "id": "a4a3ebdc-9675-43c7-8a90-223561148cf6",
   "metadata": {},
   "outputs": [],
   "source": []
  },
  {
   "cell_type": "code",
   "execution_count": null,
   "id": "0c362392-4cfc-4992-94a1-47d3913c7eb9",
   "metadata": {},
   "outputs": [],
   "source": []
  },
  {
   "cell_type": "code",
   "execution_count": 15,
   "id": "03628236-eb10-45c8-9706-387fac748c1a",
   "metadata": {},
   "outputs": [],
   "source": [
    "list_unique_cat = sales_train_df_31['item_category_id'].unique()"
   ]
  },
  {
   "cell_type": "code",
   "execution_count": 16,
   "id": "e9f6373b-3d39-4fc3-bccd-1a1aebbd8b6a",
   "metadata": {},
   "outputs": [
    {
     "data": {
      "text/plain": [
       "array([23, 40, 30,  6, 63, 22, 38, 75, 69,  5, 37,  2, 55, 45, 19, 21, 79,\n",
       "       28, 25, 62, 41, 57, 15, 33, 72, 11, 14, 35, 83, 67, 70,  3, 65, 71,\n",
       "       64, 43, 29, 61,  4, 73, 49, 60, 77, 56, 58, 18, 20, 12, 17,  8, 16,\n",
       "       24,  7, 47, 80])"
      ]
     },
     "execution_count": 16,
     "metadata": {},
     "output_type": "execute_result"
    }
   ],
   "source": [
    "list_unique_cat"
   ]
  },
  {
   "cell_type": "code",
   "execution_count": 17,
   "id": "9178153c-c0ac-46cb-b1be-3a363a03160f",
   "metadata": {},
   "outputs": [],
   "source": [
    "sales_train_df_31_cat = sales_train_df_31.set_index('item_category_id')"
   ]
  },
  {
   "cell_type": "code",
   "execution_count": 18,
   "id": "652aa64d-2de5-4f74-94b4-8ed5ff50105d",
   "metadata": {},
   "outputs": [],
   "source": [
    "list_seq = []\n",
    "for x in list_unique_cat:\n",
    "    \n",
    "    s = np.array(sales_train_df_31_cat.loc[x,['date_block_num','item_price','item_id','item_cnt_day']])\n",
    "    \n",
    "    list_seq.append(s)\n"
   ]
  },
  {
   "cell_type": "markdown",
   "id": "f9715aae-f5e3-4e17-b2cb-2c21a23c6d0a",
   "metadata": {},
   "source": [
    "Running RNN Model "
   ]
  },
  {
   "cell_type": "code",
   "execution_count": 19,
   "id": "20de1fd5-45a3-4b38-8c33-aec92edd25f1",
   "metadata": {},
   "outputs": [
    {
     "name": "stderr",
     "output_type": "stream",
     "text": [
      "/var/folders/jd/69j4d5lx4s9dg3b1d0bfcxx80000gp/T/ipykernel_4525/1712789165.py:5: FutureWarning: Series.dt.weekofyear and Series.dt.week have been deprecated. Please use Series.dt.isocalendar().week instead.\n",
      "  sales_train_df['week_of_year'] = sales_train_df.date.dt.week\n"
     ]
    }
   ],
   "source": [
    "def create_date_features(df):\n",
    "    sales_train_df['month'] = sales_train_df.date.dt.month\n",
    "    sales_train_df['day_of_month'] = sales_train_df.date.dt.day\n",
    "    sales_train_df['day_of_year'] = sales_train_df.date.dt.dayofyear\n",
    "    sales_train_df['week_of_year'] = sales_train_df.date.dt.week\n",
    "    sales_train_df['day_of_week'] = sales_train_df.date.dt.dayofweek + 1\n",
    "    sales_train_df['year'] = sales_train_df.date.dt.year\n",
    "    sales_train_df[\"is_wknd\"] = sales_train_df.date.dt.weekday // 4\n",
    "    sales_train_df[\"quarter\"] = sales_train_df.date.dt.quarter\n",
    "    sales_train_df['is_month_start'] = sales_train_df.date.dt.is_month_start.astype(int)\n",
    "    sales_train_df['is_month_end'] = sales_train_df.date.dt.is_month_end.astype(int)\n",
    "    sales_train_df['is_quarter_start'] = sales_train_df.date.dt.is_quarter_start.astype(int)\n",
    "    sales_train_df['is_quarter_end'] = sales_train_df.date.dt.is_quarter_end.astype(int)\n",
    "    sales_train_df['is_year_start'] = sales_train_df.date.dt.is_year_start.astype(int)\n",
    "    sales_train_df['is_year_end'] = sales_train_df.date.dt.is_year_end.astype(int)\n",
    "\n",
    "sales_train_df_features = create_date_features(sales_train_df)"
   ]
  },
  {
   "cell_type": "code",
   "execution_count": 25,
   "id": "212107c0-68df-4322-b95e-de927382ca3c",
   "metadata": {},
   "outputs": [],
   "source": [
    "sales_train_df_features"
   ]
  },
  {
   "cell_type": "code",
   "execution_count": 23,
   "id": "3061a7f0-3ebf-4b66-94dc-6cfebe9132f3",
   "metadata": {},
   "outputs": [
    {
     "ename": "AttributeError",
     "evalue": "'list' object has no attribute 'shape'",
     "output_type": "error",
     "traceback": [
      "\u001b[0;31m---------------------------------------------------------------------------\u001b[0m",
      "\u001b[0;31mAttributeError\u001b[0m                            Traceback (most recent call last)",
      "Cell \u001b[0;32mIn [23], line 1\u001b[0m\n\u001b[0;32m----> 1\u001b[0m \u001b[43mX\u001b[49m\u001b[38;5;241;43m.\u001b[39;49m\u001b[43mshape\u001b[49m\n",
      "\u001b[0;31mAttributeError\u001b[0m: 'list' object has no attribute 'shape'"
     ]
    }
   ],
   "source": []
  },
  {
   "cell_type": "code",
   "execution_count": 24,
   "id": "a4a9a5c0-6bda-4661-9d9a-0e4e70a61165",
   "metadata": {},
   "outputs": [
    {
     "ename": "ValueError",
     "evalue": "Shape of sample () of sequence at position 45 is different from expected shape (4,)",
     "output_type": "error",
     "traceback": [
      "\u001b[0;31m---------------------------------------------------------------------------\u001b[0m",
      "\u001b[0;31mValueError\u001b[0m                                Traceback (most recent call last)",
      "Cell \u001b[0;32mIn [24], line 1\u001b[0m\n\u001b[0;32m----> 1\u001b[0m X_pad \u001b[38;5;241m=\u001b[39m \u001b[43mpad_sequences\u001b[49m\u001b[43m(\u001b[49m\u001b[43mX\u001b[49m\u001b[43m)\u001b[49m \n\u001b[1;32m      2\u001b[0m X_pad\n",
      "File \u001b[0;32m~/.pyenv/versions/3.8.12/envs/blast-from-the-forecast/lib/python3.8/site-packages/keras/preprocessing/sequence.py:152\u001b[0m, in \u001b[0;36mpad_sequences\u001b[0;34m(sequences, maxlen, dtype, padding, truncating, value)\u001b[0m\n\u001b[1;32m     88\u001b[0m \u001b[38;5;129m@keras_export\u001b[39m(\u001b[38;5;124m'\u001b[39m\u001b[38;5;124mkeras.preprocessing.sequence.pad_sequences\u001b[39m\u001b[38;5;124m'\u001b[39m)\n\u001b[1;32m     89\u001b[0m \u001b[38;5;28;01mdef\u001b[39;00m \u001b[38;5;21mpad_sequences\u001b[39m(sequences, maxlen\u001b[38;5;241m=\u001b[39m\u001b[38;5;28;01mNone\u001b[39;00m, dtype\u001b[38;5;241m=\u001b[39m\u001b[38;5;124m'\u001b[39m\u001b[38;5;124mint32\u001b[39m\u001b[38;5;124m'\u001b[39m,\n\u001b[1;32m     90\u001b[0m                   padding\u001b[38;5;241m=\u001b[39m\u001b[38;5;124m'\u001b[39m\u001b[38;5;124mpre\u001b[39m\u001b[38;5;124m'\u001b[39m, truncating\u001b[38;5;241m=\u001b[39m\u001b[38;5;124m'\u001b[39m\u001b[38;5;124mpre\u001b[39m\u001b[38;5;124m'\u001b[39m, value\u001b[38;5;241m=\u001b[39m\u001b[38;5;241m0.\u001b[39m):\n\u001b[1;32m     91\u001b[0m   \u001b[38;5;124;03m\"\"\"Pads sequences to the same length.\u001b[39;00m\n\u001b[1;32m     92\u001b[0m \n\u001b[1;32m     93\u001b[0m \u001b[38;5;124;03m  This function transforms a list (of length `num_samples`)\u001b[39;00m\n\u001b[0;32m   (...)\u001b[0m\n\u001b[1;32m    150\u001b[0m \u001b[38;5;124;03m          or in case of invalid shape for a `sequences` entry.\u001b[39;00m\n\u001b[1;32m    151\u001b[0m \u001b[38;5;124;03m  \"\"\"\u001b[39;00m\n\u001b[0;32m--> 152\u001b[0m   \u001b[38;5;28;01mreturn\u001b[39;00m \u001b[43msequence\u001b[49m\u001b[38;5;241;43m.\u001b[39;49m\u001b[43mpad_sequences\u001b[49m\u001b[43m(\u001b[49m\n\u001b[1;32m    153\u001b[0m \u001b[43m      \u001b[49m\u001b[43msequences\u001b[49m\u001b[43m,\u001b[49m\u001b[43m \u001b[49m\u001b[43mmaxlen\u001b[49m\u001b[38;5;241;43m=\u001b[39;49m\u001b[43mmaxlen\u001b[49m\u001b[43m,\u001b[49m\u001b[43m \u001b[49m\u001b[43mdtype\u001b[49m\u001b[38;5;241;43m=\u001b[39;49m\u001b[43mdtype\u001b[49m\u001b[43m,\u001b[49m\n\u001b[1;32m    154\u001b[0m \u001b[43m      \u001b[49m\u001b[43mpadding\u001b[49m\u001b[38;5;241;43m=\u001b[39;49m\u001b[43mpadding\u001b[49m\u001b[43m,\u001b[49m\u001b[43m \u001b[49m\u001b[43mtruncating\u001b[49m\u001b[38;5;241;43m=\u001b[39;49m\u001b[43mtruncating\u001b[49m\u001b[43m,\u001b[49m\u001b[43m \u001b[49m\u001b[43mvalue\u001b[49m\u001b[38;5;241;43m=\u001b[39;49m\u001b[43mvalue\u001b[49m\u001b[43m)\u001b[49m\n",
      "File \u001b[0;32m~/.pyenv/versions/3.8.12/envs/blast-from-the-forecast/lib/python3.8/site-packages/keras_preprocessing/sequence.py:100\u001b[0m, in \u001b[0;36mpad_sequences\u001b[0;34m(sequences, maxlen, dtype, padding, truncating, value)\u001b[0m\n\u001b[1;32m     98\u001b[0m trunc \u001b[38;5;241m=\u001b[39m np\u001b[38;5;241m.\u001b[39masarray(trunc, dtype\u001b[38;5;241m=\u001b[39mdtype)\n\u001b[1;32m     99\u001b[0m \u001b[38;5;28;01mif\u001b[39;00m trunc\u001b[38;5;241m.\u001b[39mshape[\u001b[38;5;241m1\u001b[39m:] \u001b[38;5;241m!=\u001b[39m sample_shape:\n\u001b[0;32m--> 100\u001b[0m     \u001b[38;5;28;01mraise\u001b[39;00m \u001b[38;5;167;01mValueError\u001b[39;00m(\u001b[38;5;124m'\u001b[39m\u001b[38;5;124mShape of sample \u001b[39m\u001b[38;5;132;01m%s\u001b[39;00m\u001b[38;5;124m of sequence at position \u001b[39m\u001b[38;5;132;01m%s\u001b[39;00m\u001b[38;5;124m \u001b[39m\u001b[38;5;124m'\u001b[39m\n\u001b[1;32m    101\u001b[0m                      \u001b[38;5;124m'\u001b[39m\u001b[38;5;124mis different from expected shape \u001b[39m\u001b[38;5;132;01m%s\u001b[39;00m\u001b[38;5;124m'\u001b[39m \u001b[38;5;241m%\u001b[39m\n\u001b[1;32m    102\u001b[0m                      (trunc\u001b[38;5;241m.\u001b[39mshape[\u001b[38;5;241m1\u001b[39m:], idx, sample_shape))\n\u001b[1;32m    104\u001b[0m \u001b[38;5;28;01mif\u001b[39;00m padding \u001b[38;5;241m==\u001b[39m \u001b[38;5;124m'\u001b[39m\u001b[38;5;124mpost\u001b[39m\u001b[38;5;124m'\u001b[39m:\n\u001b[1;32m    105\u001b[0m     x[idx, :\u001b[38;5;28mlen\u001b[39m(trunc)] \u001b[38;5;241m=\u001b[39m trunc\n",
      "\u001b[0;31mValueError\u001b[0m: Shape of sample () of sequence at position 45 is different from expected shape (4,)"
     ]
    }
   ],
   "source": [
    "X_pad = pad_sequences(X) \n",
    "X_pad"
   ]
  },
  {
   "cell_type": "code",
   "execution_count": null,
   "id": "1ed9bb5d-88bc-4fa9-8378-dafe9d64250a",
   "metadata": {},
   "outputs": [],
   "source": [
    "model = Sequential()\n",
    "model.add(layers.SimpleRNN(units=2, activation='tanh', input_shape=(4,3)))\n",
    "model.add(layers.Dense(1, activation=\"linear\"))\n",
    "\n",
    "# The compilation\n",
    "model.compile(loss='mse', \n",
    "              optimizer='rmsprop')  # Recommended optimizer for RNNs\n",
    "# The fit\n",
    "model.fit(X, y,\n",
    "         batch_size=16,\n",
    "         epochs=10, verbose=0)\n",
    "\n",
    "# The prediction (one per sequence/city)\n",
    "model.predict(X)"
   ]
  },
  {
   "cell_type": "code",
   "execution_count": null,
   "id": "3aa6a613-1dc7-4095-8172-f689a0dd5e3e",
   "metadata": {},
   "outputs": [],
   "source": []
  },
  {
   "cell_type": "code",
   "execution_count": null,
   "id": "df549036-d6ff-415a-a8d6-c4547f795844",
   "metadata": {},
   "outputs": [],
   "source": []
  },
  {
   "cell_type": "code",
   "execution_count": null,
   "id": "24542e23-c711-4294-907b-665c6bde194e",
   "metadata": {},
   "outputs": [],
   "source": []
  },
  {
   "cell_type": "code",
   "execution_count": 77,
   "id": "856b0753-550e-4f3e-8494-1e612fa2499c",
   "metadata": {},
   "outputs": [],
   "source": [
    "# date_block_num: 34\n",
    "# shop_id: 60\n",
    "# item_id: 21807"
   ]
  },
  {
   "cell_type": "code",
   "execution_count": null,
   "id": "8ab63345-0c4b-434f-b134-4d03407842e7",
   "metadata": {},
   "outputs": [],
   "source": [
    "date_block_num, shop_id\n",
    "0\n",
    "1\n",
    "2\n",
    "3\n",
    "4\n",
    "5\n",
    "6\n",
    "7"
   ]
  }
 ],
 "metadata": {
  "kernelspec": {
   "display_name": "Python 3 (ipykernel)",
   "language": "python",
   "name": "python3"
  },
  "language_info": {
   "codemirror_mode": {
    "name": "ipython",
    "version": 3
   },
   "file_extension": ".py",
   "mimetype": "text/x-python",
   "name": "python",
   "nbconvert_exporter": "python",
   "pygments_lexer": "ipython3",
   "version": "3.8.12"
  }
 },
 "nbformat": 4,
 "nbformat_minor": 5
}
