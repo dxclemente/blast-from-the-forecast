{
 "cells": [
  {
   "cell_type": "markdown",
   "id": "7ff2ee24",
   "metadata": {
    "ExecuteTime": {
     "end_time": "2022-11-24T11:06:14.549275Z",
     "start_time": "2022-11-24T11:06:14.544316Z"
    },
    "heading_collapsed": true
   },
   "source": [
    "## Load Packages"
   ]
  },
  {
   "cell_type": "code",
   "execution_count": 1,
   "id": "e3e960cb-6b51-4f58-b30b-be5400f84f60",
   "metadata": {
    "ExecuteTime": {
     "end_time": "2022-11-24T11:05:56.630745Z",
     "start_time": "2022-11-24T11:05:50.071039Z"
    },
    "hidden": true
   },
   "outputs": [],
   "source": [
    "from tensorflow.keras.preprocessing.sequence import pad_sequences"
   ]
  },
  {
   "cell_type": "code",
   "execution_count": 2,
   "id": "694a0f7a-a5ca-4b32-a35c-0375759d7f37",
   "metadata": {
    "ExecuteTime": {
     "end_time": "2022-11-24T11:05:56.654542Z",
     "start_time": "2022-11-24T11:05:56.641673Z"
    },
    "hidden": true
   },
   "outputs": [],
   "source": [
    "from tensorflow.keras.applications import vgg16\n",
    "from tensorflow.keras.models import Sequential\n",
    "from tensorflow.keras import layers"
   ]
  },
  {
   "cell_type": "code",
   "execution_count": 3,
   "id": "b89e958d-f5a5-41ec-97fa-6cad06b4379a",
   "metadata": {
    "ExecuteTime": {
     "end_time": "2022-11-24T11:05:59.028893Z",
     "start_time": "2022-11-24T11:05:57.637658Z"
    },
    "hidden": true,
    "tags": []
   },
   "outputs": [],
   "source": [
    "import pandas as pd\n",
    "import numpy as np\n",
    "import matplotlib.pyplot as plt\n",
    "import seaborn as sns\n",
    "import os\n",
    "from sqlalchemy import create_engine\n",
    "from dotenv import load_dotenv\n",
    "import psycopg2\n"
   ]
  },
  {
   "cell_type": "markdown",
   "id": "9c3f1b96-74a9-4819-b0dd-5be8df27f6b4",
   "metadata": {
    "heading_collapsed": true,
    "tags": []
   },
   "source": [
    "## Load data from Postgres"
   ]
  },
  {
   "cell_type": "code",
   "execution_count": 5,
   "id": "284c5c2b-c74b-4132-b5b7-99cc63524808",
   "metadata": {
    "ExecuteTime": {
     "end_time": "2022-11-24T11:06:30.008610Z",
     "start_time": "2022-11-24T11:06:29.999429Z"
    },
    "hidden": true
   },
   "outputs": [],
   "source": [
    "# Set postgres credentials\n",
    "\n",
    "load_dotenv()\n",
    "user = os.getenv('DB_USER')\n",
    "password = os.getenv('DB_PASSWORD')\n",
    "host = os.getenv('DB_HOST')\n",
    "port = os.getenv('DB_PORT')\n",
    "db = os.getenv('DB')"
   ]
  },
  {
   "cell_type": "code",
   "execution_count": 6,
   "id": "c24f5686-e041-45eb-87ed-77e50e733163",
   "metadata": {
    "ExecuteTime": {
     "end_time": "2022-11-24T11:06:30.908194Z",
     "start_time": "2022-11-24T11:06:30.842060Z"
    },
    "hidden": true
   },
   "outputs": [],
   "source": [
    "# A long string that contains the necessary Postgres login information\n",
    "postgres_str = ('postgresql://{username}:{password}@{ipaddress}:{port}/{dbname}'\n",
    "                .format(username=user,\n",
    "                        password=password,\n",
    "                        ipaddress=host,\n",
    "                        port=port,\n",
    "                        dbname=db))\n",
    "cnx = create_engine(postgres_str)"
   ]
  },
  {
   "cell_type": "code",
   "execution_count": 7,
   "id": "7013aac0-a8de-4f7e-958c-2c87e05e61a2",
   "metadata": {
    "ExecuteTime": {
     "end_time": "2022-11-24T11:06:34.996490Z",
     "start_time": "2022-11-24T11:06:33.296746Z"
    },
    "hidden": true
   },
   "outputs": [
    {
     "data": {
      "text/plain": [
       "['test',\n",
       " 'shops',\n",
       " 'sample_submission',\n",
       " 'item_categories',\n",
       " 'sales_train',\n",
       " 'shops_en',\n",
       " 'item_categories_en',\n",
       " 'items_en',\n",
       " 'items',\n",
       " 'cleaning_store_id',\n",
       " 'cleaning_item_category_id']"
      ]
     },
     "execution_count": 7,
     "metadata": {},
     "output_type": "execute_result"
    }
   ],
   "source": [
    "# List DB tables\n",
    "conn = psycopg2.connect(postgres_str)\n",
    "cursor = conn.cursor()\n",
    "cursor.execute(\"\"\"SELECT relname FROM pg_class WHERE relkind='r'\n",
    "                  AND relname !~ '^(pg_|sql_)';\"\"\") # \"rel\" is short for relation.\n",
    "\n",
    "tables_list = [i[0] for i in cursor.fetchall()] # A list() of tables.\n",
    "tables_list #check available tables"
   ]
  },
  {
   "cell_type": "code",
   "execution_count": 8,
   "id": "0e4b1f44-eb41-4a23-97c9-3c08a1c88123",
   "metadata": {
    "ExecuteTime": {
     "end_time": "2022-11-24T11:07:23.619706Z",
     "start_time": "2022-11-24T11:06:49.691917Z"
    },
    "hidden": true
   },
   "outputs": [],
   "source": [
    "# Load datasets\n",
    "shops_df = pd.read_sql_query('''SELECT * FROM shops_en;''', cnx)\n",
    "item_categories_df = pd.read_sql_query('''SELECT * FROM item_categories_en;''', cnx)\n",
    "test_df = pd.read_sql_query('''SELECT * FROM test;''', cnx)\n",
    "sales_train_df = pd.read_sql_query('''SELECT * FROM sales_train;''', cnx)\n",
    "items_df = pd.read_sql_query('''SELECT * FROM items_en;''', cnx)"
   ]
  },
  {
   "cell_type": "code",
   "execution_count": 9,
   "id": "f1b42b1b-0691-4386-8de2-10b230ef5397",
   "metadata": {
    "ExecuteTime": {
     "end_time": "2022-11-24T11:07:25.746952Z",
     "start_time": "2022-11-24T11:07:25.301971Z"
    },
    "hidden": true
   },
   "outputs": [
    {
     "name": "stdout",
     "output_type": "stream",
     "text": [
      "<class 'pandas.core.frame.DataFrame'>\n",
      "RangeIndex: 22170 entries, 0 to 22169\n",
      "Data columns (total 3 columns):\n",
      " #   Column            Non-Null Count  Dtype \n",
      "---  ------            --------------  ----- \n",
      " 0   item_name         22170 non-null  object\n",
      " 1   item_id           22170 non-null  int64 \n",
      " 2   item_category_id  22170 non-null  int64 \n",
      "dtypes: int64(2), object(1)\n",
      "memory usage: 519.7+ KB\n"
     ]
    },
    {
     "data": {
      "text/plain": [
       "date              0\n",
       "date_block_num    0\n",
       "shop_id           0\n",
       "item_id           0\n",
       "item_price        0\n",
       "item_cnt_day      0\n",
       "dtype: int64"
      ]
     },
     "execution_count": 9,
     "metadata": {},
     "output_type": "execute_result"
    }
   ],
   "source": [
    "items_df.info()\n",
    "sales_train_df.isnull().sum() # check for NaN values"
   ]
  },
  {
   "cell_type": "markdown",
   "id": "1f50ab77-84f6-4d6f-84fa-04c69f44b59d",
   "metadata": {
    "tags": []
   },
   "source": [
    "## Preprocessing"
   ]
  },
  {
   "cell_type": "code",
   "execution_count": 10,
   "id": "4f5d56e0-c81e-4b1b-b63f-39687d3d2ab4",
   "metadata": {
    "ExecuteTime": {
     "end_time": "2022-11-24T11:07:32.330192Z",
     "start_time": "2022-11-24T11:07:31.305719Z"
    }
   },
   "outputs": [],
   "source": [
    "# Merge with categories to get the Ids\n",
    "sales_train_df = pd.merge(sales_train_df, items_df, left_on='item_id', right_on='item_id', how='left')\n",
    "\n",
    "# Drop column that contais the item_name\n",
    "sales_train_df.drop(labels='item_name', axis=1, inplace=True)"
   ]
  },
  {
   "cell_type": "code",
   "execution_count": 11,
   "id": "03903254-d665-41e9-ac0a-ef65a2939869",
   "metadata": {
    "ExecuteTime": {
     "end_time": "2022-11-24T11:07:35.243110Z",
     "start_time": "2022-11-24T11:07:33.522689Z"
    }
   },
   "outputs": [],
   "source": [
    "# Set date to YYYY/mm/dd\n",
    "sales_train_df['date'] = pd.to_datetime(sales_train_df['date'], format='%d.%m.%Y')\n",
    "\n",
    "# Drop duplicates\n",
    "sales_train_df.drop_duplicates(inplace=True)"
   ]
  },
  {
   "cell_type": "code",
   "execution_count": 12,
   "id": "6d9eee38-1290-4851-b373-c84869be4656",
   "metadata": {
    "ExecuteTime": {
     "end_time": "2022-11-24T11:07:36.370489Z",
     "start_time": "2022-11-24T11:07:36.335499Z"
    }
   },
   "outputs": [
    {
     "data": {
      "text/html": [
       "<div><div id=2c50ada0-9bef-46f6-b18b-bfd6dcb18fa3 style=\"display:none; background-color:#9D6CFF; color:white; width:200px; height:30px; padding-left:5px; border-radius:4px; flex-direction:row; justify-content:space-around; align-items:center;\" onmouseover=\"this.style.backgroundColor='#BA9BF8'\" onmouseout=\"this.style.backgroundColor='#9D6CFF'\" onclick=\"window.commands?.execute('create-mitosheet-from-dataframe-output');\">See Full Dataframe in Mito</div> <script> if (window.commands?.hasCommand('create-mitosheet-from-dataframe-output')) document.getElementById('2c50ada0-9bef-46f6-b18b-bfd6dcb18fa3').style.display = 'flex' </script> <table border=\"1\" class=\"dataframe\">\n",
       "  <thead>\n",
       "    <tr style=\"text-align: right;\">\n",
       "      <th></th>\n",
       "      <th>date</th>\n",
       "      <th>date_block_num</th>\n",
       "      <th>shop_id</th>\n",
       "      <th>item_id</th>\n",
       "      <th>item_price</th>\n",
       "      <th>item_cnt_day</th>\n",
       "      <th>item_category_id</th>\n",
       "    </tr>\n",
       "  </thead>\n",
       "  <tbody>\n",
       "    <tr>\n",
       "      <th>0</th>\n",
       "      <td>2013-01-02</td>\n",
       "      <td>0</td>\n",
       "      <td>59</td>\n",
       "      <td>22154</td>\n",
       "      <td>999.00</td>\n",
       "      <td>1.0</td>\n",
       "      <td>37</td>\n",
       "    </tr>\n",
       "    <tr>\n",
       "      <th>1</th>\n",
       "      <td>2013-01-03</td>\n",
       "      <td>0</td>\n",
       "      <td>25</td>\n",
       "      <td>2552</td>\n",
       "      <td>899.00</td>\n",
       "      <td>1.0</td>\n",
       "      <td>58</td>\n",
       "    </tr>\n",
       "    <tr>\n",
       "      <th>2</th>\n",
       "      <td>2013-01-05</td>\n",
       "      <td>0</td>\n",
       "      <td>25</td>\n",
       "      <td>2552</td>\n",
       "      <td>899.00</td>\n",
       "      <td>-1.0</td>\n",
       "      <td>58</td>\n",
       "    </tr>\n",
       "    <tr>\n",
       "      <th>3</th>\n",
       "      <td>2013-01-06</td>\n",
       "      <td>0</td>\n",
       "      <td>25</td>\n",
       "      <td>2554</td>\n",
       "      <td>1709.05</td>\n",
       "      <td>1.0</td>\n",
       "      <td>58</td>\n",
       "    </tr>\n",
       "    <tr>\n",
       "      <th>4</th>\n",
       "      <td>2013-01-15</td>\n",
       "      <td>0</td>\n",
       "      <td>25</td>\n",
       "      <td>2555</td>\n",
       "      <td>1099.00</td>\n",
       "      <td>1.0</td>\n",
       "      <td>56</td>\n",
       "    </tr>\n",
       "    <tr>\n",
       "      <th>...</th>\n",
       "      <td>...</td>\n",
       "      <td>...</td>\n",
       "      <td>...</td>\n",
       "      <td>...</td>\n",
       "      <td>...</td>\n",
       "      <td>...</td>\n",
       "      <td>...</td>\n",
       "    </tr>\n",
       "    <tr>\n",
       "      <th>2935844</th>\n",
       "      <td>2015-10-10</td>\n",
       "      <td>33</td>\n",
       "      <td>25</td>\n",
       "      <td>7409</td>\n",
       "      <td>299.00</td>\n",
       "      <td>1.0</td>\n",
       "      <td>55</td>\n",
       "    </tr>\n",
       "    <tr>\n",
       "      <th>2935845</th>\n",
       "      <td>2015-10-09</td>\n",
       "      <td>33</td>\n",
       "      <td>25</td>\n",
       "      <td>7460</td>\n",
       "      <td>299.00</td>\n",
       "      <td>1.0</td>\n",
       "      <td>55</td>\n",
       "    </tr>\n",
       "    <tr>\n",
       "      <th>2935846</th>\n",
       "      <td>2015-10-14</td>\n",
       "      <td>33</td>\n",
       "      <td>25</td>\n",
       "      <td>7459</td>\n",
       "      <td>349.00</td>\n",
       "      <td>1.0</td>\n",
       "      <td>55</td>\n",
       "    </tr>\n",
       "    <tr>\n",
       "      <th>2935847</th>\n",
       "      <td>2015-10-22</td>\n",
       "      <td>33</td>\n",
       "      <td>25</td>\n",
       "      <td>7440</td>\n",
       "      <td>299.00</td>\n",
       "      <td>1.0</td>\n",
       "      <td>57</td>\n",
       "    </tr>\n",
       "    <tr>\n",
       "      <th>2935848</th>\n",
       "      <td>2015-10-03</td>\n",
       "      <td>33</td>\n",
       "      <td>25</td>\n",
       "      <td>7460</td>\n",
       "      <td>299.00</td>\n",
       "      <td>1.0</td>\n",
       "      <td>55</td>\n",
       "    </tr>\n",
       "  </tbody>\n",
       "</table></div>"
      ],
      "text/plain": [
       "              date  date_block_num  shop_id  item_id  item_price  \\\n",
       "0       2013-01-02               0       59    22154      999.00   \n",
       "1       2013-01-03               0       25     2552      899.00   \n",
       "2       2013-01-05               0       25     2552      899.00   \n",
       "3       2013-01-06               0       25     2554     1709.05   \n",
       "4       2013-01-15               0       25     2555     1099.00   \n",
       "...            ...             ...      ...      ...         ...   \n",
       "2935844 2015-10-10              33       25     7409      299.00   \n",
       "2935845 2015-10-09              33       25     7460      299.00   \n",
       "2935846 2015-10-14              33       25     7459      349.00   \n",
       "2935847 2015-10-22              33       25     7440      299.00   \n",
       "2935848 2015-10-03              33       25     7460      299.00   \n",
       "\n",
       "         item_cnt_day  item_category_id  \n",
       "0                 1.0                37  \n",
       "1                 1.0                58  \n",
       "2                -1.0                58  \n",
       "3                 1.0                58  \n",
       "4                 1.0                56  \n",
       "...               ...               ...  \n",
       "2935844           1.0                55  \n",
       "2935845           1.0                55  \n",
       "2935846           1.0                55  \n",
       "2935847           1.0                57  \n",
       "2935848           1.0                55  \n",
       "\n",
       "[2935843 rows x 7 columns]"
      ]
     },
     "execution_count": 12,
     "metadata": {},
     "output_type": "execute_result"
    }
   ],
   "source": [
    "sales_train_df"
   ]
  },
  {
   "cell_type": "code",
   "execution_count": 14,
   "id": "c41db1c2-a57b-4f68-96ce-0f38a64412db",
   "metadata": {
    "ExecuteTime": {
     "end_time": "2022-11-24T11:09:05.412981Z",
     "start_time": "2022-11-24T11:09:05.379480Z"
    }
   },
   "outputs": [],
   "source": [
    "# Filtered shop_id\n",
    "sales_train_df_31 = sales_train_df[sales_train_df['shop_id'] == 31]"
   ]
  },
  {
   "cell_type": "code",
   "execution_count": 15,
   "id": "351bfe93-3e6c-4ba6-aa7f-e1cf5ab916a4",
   "metadata": {
    "ExecuteTime": {
     "end_time": "2022-11-24T11:09:07.637251Z",
     "start_time": "2022-11-24T11:09:07.592417Z"
    }
   },
   "outputs": [],
   "source": [
    "# Sorted date in ascending order\n",
    "sales_train_df_31 = sales_train_df_31.sort_values(by='date', ascending=True, na_position='first')"
   ]
  },
  {
   "cell_type": "code",
   "execution_count": 16,
   "id": "a2f8070d-2dc3-49d1-aaf5-e08f6064fa99",
   "metadata": {
    "ExecuteTime": {
     "end_time": "2022-11-24T11:09:10.902664Z",
     "start_time": "2022-11-24T11:09:10.641257Z"
    },
    "scrolled": true
   },
   "outputs": [
    {
     "name": "stderr",
     "output_type": "stream",
     "text": [
      "/var/folders/jd/69j4d5lx4s9dg3b1d0bfcxx80000gp/T/ipykernel_11168/1075818176.py:2: UserWarning: Boolean Series key will be reindexed to match DataFrame index.\n",
      "  sales_train_df_31 = sales_train_df_31[~sales_train_df['item_category_id'].isin([0, 1,10,13,32,39,42,46,50,51,52,53,59,66,68,82])]\n"
     ]
    }
   ],
   "source": [
    "# Filtered item_category_id\n",
    "sales_train_df_31 = sales_train_df_31[~sales_train_df['item_category_id'].isin([0, 1,10,13,32,39,42,46,50,51,52,53,59,66,68,82])]"
   ]
  },
  {
   "cell_type": "code",
   "execution_count": null,
   "id": "284f65fd",
   "metadata": {},
   "outputs": [],
   "source": [
    "#def create_date_features(df):\n",
    "    sales_train_df['month'] = sales_train_df.date.dt.month\n",
    "    sales_train_df['day_of_month'] = sales_train_df.date.dt.day\n",
    "    sales_train_df['day_of_year'] = sales_train_df.date.dt.dayofyear\n",
    "    sales_train_df['week_of_year'] = sales_train_df.date.dt.isocalendar\n",
    "    sales_train_df['day_of_week'] = sales_train_df.date.dt.dayofweek + 1\n",
    "    sales_train_df['year'] = sales_train_df.date.dt.year\n",
    "    sales_train_df[\"is_wknd\"] = sales_train_df.date.dt.weekday // 4\n",
    "    sales_train_df[\"quarter\"] = sales_train_df.date.dt.quarter\n",
    "    sales_train_df['is_month_start'] = sales_train_df.date.dt.is_month_start.astype(int)\n",
    "    sales_train_df['is_month_end'] = sales_train_df.date.dt.is_month_end.astype(int)\n",
    "    sales_train_df['is_quarter_start'] = sales_train_df.date.dt.is_quarter_start.astype(int)\n",
    "    sales_train_df['is_quarter_end'] = sales_train_df.date.dt.is_quarter_end.astype(int)\n",
    "    sales_train_df['is_year_start'] = sales_train_df.date.dt.is_year_start.astype(int)\n",
    "    sales_train_df['is_year_end'] = sales_train_df.date.dt.is_year_end.astype(int)\n",
    "\n",
    "sales_train_df_features = create_date_features(sales_train_df)"
   ]
  },
  {
   "cell_type": "markdown",
   "id": "e3d77605",
   "metadata": {
    "ExecuteTime": {
     "end_time": "2022-11-24T11:10:43.263243Z",
     "start_time": "2022-11-24T11:10:43.234755Z"
    }
   },
   "source": [
    "## Model set up "
   ]
  },
  {
   "cell_type": "markdown",
   "id": "59465305",
   "metadata": {},
   "source": [
    "### Setting up y list for RNN input with last monht's volume"
   ]
  },
  {
   "cell_type": "code",
   "execution_count": 41,
   "id": "42dc04d1",
   "metadata": {
    "ExecuteTime": {
     "end_time": "2022-11-24T11:39:12.298031Z",
     "start_time": "2022-11-24T11:39:11.859087Z"
    }
   },
   "outputs": [],
   "source": [
    "# Pivoted into sales_train_df_31\n",
    "tmp_df = sales_train_df_31[['item_id', 'date_block_num', 'item_cnt_day']]\n",
    "pivot_table = tmp_df.pivot_table(\n",
    "    index=['date_block_num'],\n",
    "    columns=['item_id'],\n",
    "    values=['item_cnt_day'],\n",
    "    aggfunc={'item_cnt_day': ['sum']}\n",
    ")\n",
    "pivot_table = pivot_table.set_axis([flatten_column_header(col) for col in pivot_table.keys()], axis=1)\n",
    "sales_train_df_31_pivot = pivot_table.reset_index()\n",
    "\n",
    "# Filtered date_block_num\n",
    "sales_train_df_31_pivot = sales_train_df_31_pivot[sales_train_df_31_pivot['date_block_num'] == 33]\n",
    "\n",
    "# Pivoted into sales_train_df_31\n",
    "sales_train_df_31_pivot = pd.DataFrame(data={})\n",
    "\n",
    "# Pivoted into sales_train_df_31\n",
    "tmp_df = sales_train_df_31[['item_id', 'date_block_num', 'item_cnt_day']]\n",
    "pivot_table = tmp_df.pivot_table(\n",
    "    index=['date_block_num'],\n",
    "    columns=['item_id'],\n",
    "    values=['item_cnt_day'],\n",
    "    aggfunc={'item_cnt_day': ['sum']}\n",
    ")\n",
    "\n",
    "sales_train_df_31_pivot = pivot_table.reset_index()\n",
    "# Filtered date_block_num\n",
    "sales_train_df_31_pivot = sales_train_df_31_pivot[sales_train_df_31_pivot['date_block_num'] == 33]"
   ]
  },
  {
   "cell_type": "code",
   "execution_count": 60,
   "id": "32ccc24d",
   "metadata": {
    "ExecuteTime": {
     "end_time": "2022-11-24T11:45:02.892421Z",
     "start_time": "2022-11-24T11:45:02.885499Z"
    },
    "scrolled": true
   },
   "outputs": [],
   "source": [
    "#setting up y list with last values from month 33 \n",
    "y_list = sales_train_df_31_pivot.fillna(0)\n",
    "\n",
    "y = y_list.values.tolist()\n",
    "\n",
    "flat_list = [item for sublist in y for item in sublist]\n",
    "\n",
    "y2 = flat_list[1:]\n",
    "\n",
    "y3 = np.array(y2).astype(np.float32)"
   ]
  },
  {
   "cell_type": "code",
   "execution_count": 96,
   "id": "34d78535",
   "metadata": {
    "ExecuteTime": {
     "end_time": "2022-11-24T12:35:58.639108Z",
     "start_time": "2022-11-24T12:35:58.619347Z"
    }
   },
   "outputs": [
    {
     "data": {
      "text/plain": [
       "array([0., 0., 0., ..., 6., 1., 0.], dtype=float32)"
      ]
     },
     "execution_count": 96,
     "metadata": {},
     "output_type": "execute_result"
    }
   ],
   "source": [
    "y3"
   ]
  },
  {
   "cell_type": "markdown",
   "id": "76c60edf",
   "metadata": {
    "ExecuteTime": {
     "end_time": "2022-11-24T12:16:56.914684Z",
     "start_time": "2022-11-24T12:16:56.906549Z"
    }
   },
   "source": [
    "### Creating a list of unique item_id in order to create arrays for the model"
   ]
  },
  {
   "cell_type": "code",
   "execution_count": 74,
   "id": "03628236-eb10-45c8-9706-387fac748c1a",
   "metadata": {
    "ExecuteTime": {
     "end_time": "2022-11-24T11:55:48.057726Z",
     "start_time": "2022-11-24T11:55:48.048198Z"
    }
   },
   "outputs": [],
   "source": [
    "#creating list of unique items to run \n",
    "list_unique_item = sales_train_df_31['item_id'].unique()"
   ]
  },
  {
   "cell_type": "code",
   "execution_count": 75,
   "id": "e9f6373b-3d39-4fc3-bccd-1a1aebbd8b6a",
   "metadata": {
    "ExecuteTime": {
     "end_time": "2022-11-24T11:55:50.136600Z",
     "start_time": "2022-11-24T11:55:50.127563Z"
    }
   },
   "outputs": [],
   "source": [
    "list_unique_item.sort()"
   ]
  },
  {
   "cell_type": "code",
   "execution_count": 76,
   "id": "829ce701",
   "metadata": {
    "ExecuteTime": {
     "end_time": "2022-11-24T11:55:51.062662Z",
     "start_time": "2022-11-24T11:55:51.053703Z"
    }
   },
   "outputs": [
    {
     "data": {
      "text/plain": [
       "array([   26,    27,    28, ..., 22163, 22164, 22167])"
      ]
     },
     "execution_count": 76,
     "metadata": {},
     "output_type": "execute_result"
    }
   ],
   "source": [
    "list_unique_item"
   ]
  },
  {
   "cell_type": "markdown",
   "id": "4dab51ad",
   "metadata": {
    "ExecuteTime": {
     "end_time": "2022-11-24T12:17:47.402583Z",
     "start_time": "2022-11-24T12:17:47.396333Z"
    }
   },
   "source": [
    "### Looping the list to create arrays of observations per item_id/day"
   ]
  },
  {
   "cell_type": "code",
   "execution_count": 77,
   "id": "9178153c-c0ac-46cb-b1be-3a363a03160f",
   "metadata": {
    "ExecuteTime": {
     "end_time": "2022-11-24T11:55:58.593323Z",
     "start_time": "2022-11-24T11:55:58.576982Z"
    }
   },
   "outputs": [],
   "source": [
    "sales_train_df_31_item = sales_train_df_31.set_index('item_id')"
   ]
  },
  {
   "cell_type": "code",
   "execution_count": 79,
   "id": "652aa64d-2de5-4f74-94b4-8ed5ff50105d",
   "metadata": {
    "ExecuteTime": {
     "end_time": "2022-11-24T11:59:49.497068Z",
     "start_time": "2022-11-24T11:59:33.667777Z"
    }
   },
   "outputs": [],
   "source": [
    "list_seq = []\n",
    "for x in list_unique_item:\n",
    "    \n",
    "    s = np.array(sales_train_df_31_item.loc[x,['date_block_num','item_price','item_category_id','item_cnt_day']])\n",
    "    if len(np.shape(s)) < 2:\n",
    "        \n",
    "        s = np.expand_dims(s,axis=0)\n",
    "    \n",
    "    list_seq.append(s)\n"
   ]
  },
  {
   "cell_type": "code",
   "execution_count": 80,
   "id": "11972e41-523f-465d-af43-e66cd4a3b909",
   "metadata": {
    "ExecuteTime": {
     "end_time": "2022-11-24T11:59:56.333475Z",
     "start_time": "2022-11-24T11:59:56.319837Z"
    }
   },
   "outputs": [],
   "source": [
    "X = list_seq"
   ]
  },
  {
   "cell_type": "code",
   "execution_count": 82,
   "id": "a4a9a5c0-6bda-4661-9d9a-0e4e70a61165",
   "metadata": {
    "ExecuteTime": {
     "end_time": "2022-11-24T12:00:22.988700Z",
     "start_time": "2022-11-24T12:00:22.848965Z"
    }
   },
   "outputs": [],
   "source": [
    "X_pad = pad_sequences(X) "
   ]
  },
  {
   "cell_type": "code",
   "execution_count": 83,
   "id": "a6d86cf4-88a0-4f33-8dc7-398800a8feac",
   "metadata": {
    "ExecuteTime": {
     "end_time": "2022-11-24T12:00:34.954989Z",
     "start_time": "2022-11-24T12:00:34.941616Z"
    }
   },
   "outputs": [
    {
     "data": {
      "text/plain": [
       "(14132, 863, 4)"
      ]
     },
     "execution_count": 83,
     "metadata": {},
     "output_type": "execute_result"
    }
   ],
   "source": [
    "X_pad.shape"
   ]
  },
  {
   "cell_type": "markdown",
   "id": "efff6000",
   "metadata": {},
   "source": [
    "### Defining and runnig RNN model "
   ]
  },
  {
   "cell_type": "code",
   "execution_count": 95,
   "id": "1ed9bb5d-88bc-4fa9-8378-dafe9d64250a",
   "metadata": {
    "ExecuteTime": {
     "end_time": "2022-11-24T12:35:30.686919Z",
     "start_time": "2022-11-24T12:22:06.147647Z"
    }
   },
   "outputs": [
    {
     "name": "stdout",
     "output_type": "stream",
     "text": [
      "Epoch 1/20\n",
      "283/283 [==============================] - 36s 123ms/step - loss: 17.1098\n",
      "Epoch 2/20\n",
      "283/283 [==============================] - 45s 159ms/step - loss: 16.8524\n",
      "Epoch 3/20\n",
      "283/283 [==============================] - 35s 125ms/step - loss: 16.8445\n",
      "Epoch 4/20\n",
      "283/283 [==============================] - 35s 124ms/step - loss: 16.8453\n",
      "Epoch 5/20\n",
      "283/283 [==============================] - 34s 120ms/step - loss: 16.8445\n",
      "Epoch 6/20\n",
      "283/283 [==============================] - 35s 124ms/step - loss: 16.8445\n",
      "Epoch 7/20\n",
      "283/283 [==============================] - 36s 126ms/step - loss: 16.8451\n",
      "Epoch 8/20\n",
      "283/283 [==============================] - 39s 138ms/step - loss: 16.8472\n",
      "Epoch 9/20\n",
      "283/283 [==============================] - 38s 135ms/step - loss: 16.8470\n",
      "Epoch 10/20\n",
      "283/283 [==============================] - 36s 129ms/step - loss: 16.8453\n",
      "Epoch 11/20\n",
      "283/283 [==============================] - 34s 122ms/step - loss: 16.8468\n",
      "Epoch 12/20\n",
      "283/283 [==============================] - 33s 118ms/step - loss: 16.8453\n",
      "Epoch 13/20\n",
      "283/283 [==============================] - 38s 134ms/step - loss: 16.8440\n",
      "Epoch 14/20\n",
      "283/283 [==============================] - 36s 126ms/step - loss: 16.8464\n",
      "Epoch 15/20\n",
      "283/283 [==============================] - 37s 131ms/step - loss: 16.8464\n",
      "Epoch 16/20\n",
      "283/283 [==============================] - 36s 129ms/step - loss: 16.8459\n",
      "Epoch 17/20\n",
      "283/283 [==============================] - 41s 147ms/step - loss: 16.8442\n",
      "Epoch 18/20\n",
      "283/283 [==============================] - 55s 195ms/step - loss: 16.8477\n",
      "Epoch 19/20\n",
      "283/283 [==============================] - 57s 200ms/step - loss: 16.8448\n",
      "Epoch 20/20\n",
      "283/283 [==============================] - 51s 180ms/step - loss: 16.8456\n"
     ]
    },
    {
     "data": {
      "text/plain": [
       "array([[0.3922189],\n",
       "       [0.3922189],\n",
       "       [0.3922189],\n",
       "       ...,\n",
       "       [0.3922189],\n",
       "       [0.3922189],\n",
       "       [0.3922189]], dtype=float32)"
      ]
     },
     "execution_count": 95,
     "metadata": {},
     "output_type": "execute_result"
    }
   ],
   "source": [
    "model = Sequential()\n",
    "model.add(layers.SimpleRNN(units=2, activation='tanh', input_shape=(863,4)))\n",
    "model.add(layers.Dense(1, activation=\"linear\"))\n",
    "\n",
    "# The compilation\n",
    "model.compile(loss='mse', \n",
    "              optimizer='rmsprop')  \n",
    "# The fit\n",
    "model.fit(X_pad, y3,\n",
    "         batch_size=50,\n",
    "         epochs=20)\n",
    "\n",
    "# The prediction (one per sequence/city)\n",
    "model.predict(X_pad)"
   ]
  },
  {
   "cell_type": "code",
   "execution_count": null,
   "id": "3aa6a613-1dc7-4095-8172-f689a0dd5e3e",
   "metadata": {},
   "outputs": [],
   "source": []
  },
  {
   "cell_type": "code",
   "execution_count": null,
   "id": "df549036-d6ff-415a-a8d6-c4547f795844",
   "metadata": {},
   "outputs": [],
   "source": []
  },
  {
   "cell_type": "code",
   "execution_count": null,
   "id": "24542e23-c711-4294-907b-665c6bde194e",
   "metadata": {},
   "outputs": [],
   "source": []
  }
 ],
 "metadata": {
  "kernelspec": {
   "display_name": "Python 3 (ipykernel)",
   "language": "python",
   "name": "python3"
  },
  "language_info": {
   "codemirror_mode": {
    "name": "ipython",
    "version": 3
   },
   "file_extension": ".py",
   "mimetype": "text/x-python",
   "name": "python",
   "nbconvert_exporter": "python",
   "pygments_lexer": "ipython3",
   "version": "3.8.12"
  },
  "toc": {
   "base_numbering": 1,
   "nav_menu": {},
   "number_sections": true,
   "sideBar": true,
   "skip_h1_title": false,
   "title_cell": "Table of Contents",
   "title_sidebar": "Contents",
   "toc_cell": false,
   "toc_position": {},
   "toc_section_display": true,
   "toc_window_display": false
  },
  "varInspector": {
   "cols": {
    "lenName": 16,
    "lenType": 16,
    "lenVar": 40
   },
   "kernels_config": {
    "python": {
     "delete_cmd_postfix": "",
     "delete_cmd_prefix": "del ",
     "library": "var_list.py",
     "varRefreshCmd": "print(var_dic_list())"
    },
    "r": {
     "delete_cmd_postfix": ") ",
     "delete_cmd_prefix": "rm(",
     "library": "var_list.r",
     "varRefreshCmd": "cat(var_dic_list()) "
    }
   },
   "types_to_exclude": [
    "module",
    "function",
    "builtin_function_or_method",
    "instance",
    "_Feature"
   ],
   "window_display": false
  }
 },
 "nbformat": 4,
 "nbformat_minor": 5
}
