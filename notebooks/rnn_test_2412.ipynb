{
 "cells": [
  {
   "cell_type": "code",
   "execution_count": 1,
   "id": "e3e960cb-6b51-4f58-b30b-be5400f84f60",
   "metadata": {},
   "outputs": [],
   "source": [
    "from tensorflow.keras.preprocessing.sequence import pad_sequences"
   ]
  },
  {
   "cell_type": "code",
   "execution_count": 2,
   "id": "694a0f7a-a5ca-4b32-a35c-0375759d7f37",
   "metadata": {},
   "outputs": [],
   "source": [
    "from tensorflow.keras.applications import vgg16\n",
    "from tensorflow.keras.models import Sequential\n",
    "from tensorflow.keras import layers"
   ]
  },
  {
   "cell_type": "code",
   "execution_count": 3,
   "id": "b89e958d-f5a5-41ec-97fa-6cad06b4379a",
   "metadata": {
    "tags": []
   },
   "outputs": [],
   "source": [
    "import pandas as pd\n",
    "import numpy as np\n",
    "import matplotlib.pyplot as plt\n",
    "import seaborn as sns\n",
    "import os\n",
    "from sqlalchemy import create_engine\n",
    "from dotenv import load_dotenv\n",
    "import psycopg2\n"
   ]
  },
  {
   "cell_type": "markdown",
   "id": "9c3f1b96-74a9-4819-b0dd-5be8df27f6b4",
   "metadata": {
    "tags": []
   },
   "source": [
    "## Load data from Postgres"
   ]
  },
  {
   "cell_type": "code",
   "execution_count": 4,
   "id": "284c5c2b-c74b-4132-b5b7-99cc63524808",
   "metadata": {},
   "outputs": [],
   "source": [
    "# Set postgres credentials\n",
    "\n",
    "load_dotenv()\n",
    "user = os.getenv('DB_USER')\n",
    "password = os.getenv('DB_PASSWORD')\n",
    "host = os.getenv('DB_HOST')\n",
    "port = os.getenv('DB_PORT')\n",
    "db = os.getenv('DB')"
   ]
  },
  {
   "cell_type": "code",
   "execution_count": 5,
   "id": "c24f5686-e041-45eb-87ed-77e50e733163",
   "metadata": {},
   "outputs": [],
   "source": [
    "# A long string that contains the necessary Postgres login information\n",
    "postgres_str = ('postgresql://{username}:{password}@{ipaddress}:{port}/{dbname}'\n",
    "                .format(username=user,\n",
    "                        password=password,\n",
    "                        ipaddress=host,\n",
    "                        port=port,\n",
    "                        dbname=db))\n",
    "cnx = create_engine(postgres_str)"
   ]
  },
  {
   "cell_type": "code",
   "execution_count": 6,
   "id": "7013aac0-a8de-4f7e-958c-2c87e05e61a2",
   "metadata": {},
   "outputs": [
    {
     "data": {
      "text/plain": [
       "['test',\n",
       " 'shops',\n",
       " 'sample_submission',\n",
       " 'item_categories',\n",
       " 'sales_train',\n",
       " 'shops_en',\n",
       " 'item_categories_en',\n",
       " 'items_en',\n",
       " 'items',\n",
       " 'cleaning_store_id',\n",
       " 'cleaning_item_category_id']"
      ]
     },
     "execution_count": 6,
     "metadata": {},
     "output_type": "execute_result"
    }
   ],
   "source": [
    "# List DB tables\n",
    "conn = psycopg2.connect(postgres_str)\n",
    "cursor = conn.cursor()\n",
    "cursor.execute(\"\"\"SELECT relname FROM pg_class WHERE relkind='r'\n",
    "                  AND relname !~ '^(pg_|sql_)';\"\"\") # \"rel\" is short for relation.\n",
    "\n",
    "tables_list = [i[0] for i in cursor.fetchall()] # A list() of tables.\n",
    "tables_list #check available tables"
   ]
  },
  {
   "cell_type": "code",
   "execution_count": 7,
   "id": "0e4b1f44-eb41-4a23-97c9-3c08a1c88123",
   "metadata": {},
   "outputs": [],
   "source": [
    "# Load datasets\n",
    "shops_df = pd.read_sql_query('''SELECT * FROM shops_en;''', cnx)\n",
    "item_categories_df = pd.read_sql_query('''SELECT * FROM item_categories_en;''', cnx)\n",
    "test_df = pd.read_sql_query('''SELECT * FROM test;''', cnx)\n",
    "sales_train_df = pd.read_sql_query('''SELECT * FROM sales_train;''', cnx)\n",
    "items_df = pd.read_sql_query('''SELECT * FROM items_en;''', cnx)"
   ]
  },
  {
   "cell_type": "code",
   "execution_count": 8,
   "id": "f1b42b1b-0691-4386-8de2-10b230ef5397",
   "metadata": {},
   "outputs": [
    {
     "name": "stdout",
     "output_type": "stream",
     "text": [
      "<class 'pandas.core.frame.DataFrame'>\n",
      "RangeIndex: 22170 entries, 0 to 22169\n",
      "Data columns (total 3 columns):\n",
      " #   Column            Non-Null Count  Dtype \n",
      "---  ------            --------------  ----- \n",
      " 0   item_name         22170 non-null  object\n",
      " 1   item_id           22170 non-null  int64 \n",
      " 2   item_category_id  22170 non-null  int64 \n",
      "dtypes: int64(2), object(1)\n",
      "memory usage: 519.7+ KB\n"
     ]
    },
    {
     "data": {
      "text/plain": [
       "date              0\n",
       "date_block_num    0\n",
       "shop_id           0\n",
       "item_id           0\n",
       "item_price        0\n",
       "item_cnt_day      0\n",
       "dtype: int64"
      ]
     },
     "execution_count": 8,
     "metadata": {},
     "output_type": "execute_result"
    }
   ],
   "source": [
    "items_df.info()\n",
    "sales_train_df.isnull().sum() # check for NaN values"
   ]
  },
  {
   "cell_type": "markdown",
   "id": "1f50ab77-84f6-4d6f-84fa-04c69f44b59d",
   "metadata": {
    "tags": []
   },
   "source": [
    "## Preprocessing"
   ]
  },
  {
   "cell_type": "code",
   "execution_count": 9,
   "id": "4f5d56e0-c81e-4b1b-b63f-39687d3d2ab4",
   "metadata": {},
   "outputs": [],
   "source": [
    "# Merge with categories to get the Ids\n",
    "sales_train_df = pd.merge(sales_train_df, items_df, left_on='item_id', right_on='item_id', how='left')\n",
    "\n",
    "# Drop column that contais the item_name\n",
    "sales_train_df.drop(labels='item_name', axis=1, inplace=True)"
   ]
  },
  {
   "cell_type": "code",
   "execution_count": 10,
   "id": "03903254-d665-41e9-ac0a-ef65a2939869",
   "metadata": {},
   "outputs": [],
   "source": [
    "# Set date to YYYY/mm/dd\n",
    "sales_train_df['date'] = pd.to_datetime(sales_train_df['date'], format='%d.%m.%Y')\n",
    "\n",
    "# Drop duplicates\n",
    "sales_train_df.drop_duplicates(inplace=True)"
   ]
  },
  {
   "cell_type": "code",
   "execution_count": null,
   "id": "6d9eee38-1290-4851-b373-c84869be4656",
   "metadata": {},
   "outputs": [],
   "source": [
    "sales_train_df"
   ]
  },
  {
   "cell_type": "code",
   "execution_count": 16,
   "id": "3ab6aab7-f9b5-4803-a7c3-f388b5259633",
   "metadata": {},
   "outputs": [
    {
     "data": {
      "application/vnd.jupyter.widget-view+json": {
       "model_id": "7b9ec1a4cbec45f6b893d4a7394a02e3",
       "version_major": 2,
       "version_minor": 0
      },
      "text/plain": [
       "MitoWidget(analysis_data_json='{\"analysisName\": \"id-xxotyeldrp\", \"analysisToReplay\": null, \"code\": [], \"stepSu…"
      ]
     },
     "metadata": {},
     "output_type": "display_data"
    }
   ],
   "source": [
    "import mitosheet\n",
    "mitosheet.sheet(sales_train_df, analysis_to_replay=\"id-xxotyeldrp\")"
   ]
  },
  {
   "cell_type": "code",
   "execution_count": null,
   "id": "85245e49-51d4-4f3a-bb0b-89705abac181",
   "metadata": {},
   "outputs": [],
   "source": []
  },
  {
   "cell_type": "code",
   "execution_count": 12,
   "id": "c41db1c2-a57b-4f68-96ce-0f38a64412db",
   "metadata": {},
   "outputs": [],
   "source": [
    "# Filtered shop_id\n",
    "sales_train_df_31 = sales_train_df[sales_train_df['shop_id'] == 31]"
   ]
  },
  {
   "cell_type": "code",
   "execution_count": 13,
   "id": "351bfe93-3e6c-4ba6-aa7f-e1cf5ab916a4",
   "metadata": {},
   "outputs": [],
   "source": [
    "# Sorted date in ascending order\n",
    "sales_train_df_31 = sales_train_df_31.sort_values(by='date', ascending=True, na_position='first')"
   ]
  },
  {
   "cell_type": "code",
   "execution_count": 14,
   "id": "a2f8070d-2dc3-49d1-aaf5-e08f6064fa99",
   "metadata": {},
   "outputs": [
    {
     "name": "stderr",
     "output_type": "stream",
     "text": [
      "/var/folders/jd/69j4d5lx4s9dg3b1d0bfcxx80000gp/T/ipykernel_8314/1075818176.py:2: UserWarning: Boolean Series key will be reindexed to match DataFrame index.\n",
      "  sales_train_df_31 = sales_train_df_31[~sales_train_df['item_category_id'].isin([0, 1,10,13,32,39,42,46,50,51,52,53,59,66,68,82])]\n"
     ]
    }
   ],
   "source": [
    "# Filtered item_category_id\n",
    "sales_train_df_31 = sales_train_df_31[~sales_train_df['item_category_id'].isin([0, 1,10,13,32,39,42,46,50,51,52,53,59,66,68,82])]"
   ]
  },
  {
   "cell_type": "code",
   "execution_count": null,
   "id": "6d0d8e50-e4d3-4965-a90e-2eed2def4c5e",
   "metadata": {},
   "outputs": [],
   "source": [
    "sales_train_df_31"
   ]
  },
  {
   "cell_type": "code",
   "execution_count": 17,
   "id": "ba358991-6d34-4206-b774-4a8681de76f9",
   "metadata": {},
   "outputs": [
    {
     "data": {
      "application/vnd.jupyter.widget-view+json": {
       "model_id": "f0753b1542644751a6735a63fbfc9c00",
       "version_major": 2,
       "version_minor": 0
      },
      "text/plain": [
       "MitoWidget(analysis_data_json='{\"analysisName\": \"id-mcamyghxqp\", \"analysisToReplay\": null, \"code\": [], \"stepSu…"
      ]
     },
     "metadata": {},
     "output_type": "display_data"
    }
   ],
   "source": [
    "import mitosheet\n",
    "mitosheet.sheet(sales_train_df_31, analysis_to_replay=\"id-mcamyghxqp\")"
   ]
  },
  {
   "cell_type": "code",
   "execution_count": null,
   "id": "fc45cc71-2fb1-4e68-aec7-6bd1bbe28419",
   "metadata": {},
   "outputs": [],
   "source": [
    "from mitosheet import *; register_analysis(\"id-mcamyghxqp\");\n",
    "    \n",
    "# Added column new-column-s41i\n",
    "sales_train_df_31.insert(1, 'new-column-s41i', 0)\n",
    "\n",
    "# Set formula of new-column-s41i\n",
    "sales_train_df_31['new-column-s41i'] = MONTH(sales_train_df_31['date'])\n",
    "\n",
    "# Added column new-column-sz7i\n",
    "sales_train_df_31.insert(2, 'new-column-sz7i', 0)\n",
    "\n",
    "# Deleted columns new-column-s41i\n",
    "sales_train_df_31.drop(['new-column-s41i'], axis=1, inplace=True)\n",
    "\n",
    "# Deleted columns new-column-sz7i\n",
    "sales_train_df_31.drop(['new-column-sz7i'], axis=1, inplace=True)\n",
    "\n",
    "# Pivoted into sales_train_df_31\n",
    "sales_train_df_31_pivot = pd.DataFrame(data={})\n"
   ]
  },
  {
   "cell_type": "code",
   "execution_count": 40,
   "id": "f61875c2-0563-4c4c-9283-e74e8b43ba2b",
   "metadata": {},
   "outputs": [],
   "source": [
    "#sales_31_group = sales_train_df_31.groupby(['date_block_num','month']).agg({'score': 'sum', 'num_attempts': 'sum'})"
   ]
  },
  {
   "cell_type": "code",
   "execution_count": 41,
   "id": "03628236-eb10-45c8-9706-387fac748c1a",
   "metadata": {},
   "outputs": [],
   "source": [
    "list_unique_cat = sales_train_df_31['item_category_id'].unique()"
   ]
  },
  {
   "cell_type": "code",
   "execution_count": 42,
   "id": "e9f6373b-3d39-4fc3-bccd-1a1aebbd8b6a",
   "metadata": {},
   "outputs": [
    {
     "data": {
      "text/plain": [
       "array([23, 40, 30,  6, 63, 22, 38, 75, 69,  5, 37,  2, 55, 45, 19, 21, 79,\n",
       "       28, 25, 62, 41, 57, 15, 33, 72, 11, 14, 35, 83, 67, 70,  3, 65, 71,\n",
       "       64, 43, 29, 61,  4, 73, 49, 60, 77, 56, 58, 18, 20, 12, 17,  8, 16,\n",
       "       24,  7, 47, 80])"
      ]
     },
     "execution_count": 42,
     "metadata": {},
     "output_type": "execute_result"
    }
   ],
   "source": [
    "list_unique_cat"
   ]
  },
  {
   "cell_type": "code",
   "execution_count": 43,
   "id": "9178153c-c0ac-46cb-b1be-3a363a03160f",
   "metadata": {},
   "outputs": [],
   "source": [
    "sales_train_df_31_cat = sales_train_df_31.set_index('item_category_id')"
   ]
  },
  {
   "cell_type": "code",
   "execution_count": 70,
   "id": "652aa64d-2de5-4f74-94b4-8ed5ff50105d",
   "metadata": {},
   "outputs": [],
   "source": [
    "list_seq = []\n",
    "for x in list_unique_cat:\n",
    "    \n",
    "    s = np.array(sales_train_df_31_cat.loc[x,['date_block_num','item_price','item_id','item_cnt_day']])\n",
    "    if len(np.shape(s)) < 2:\n",
    "        \n",
    "        s = np.expand_dims(s,axis=0)\n",
    "    \n",
    "    list_seq.append(s)\n"
   ]
  },
  {
   "cell_type": "code",
   "execution_count": 71,
   "id": "11972e41-523f-465d-af43-e66cd4a3b909",
   "metadata": {},
   "outputs": [],
   "source": [
    "X = list_seq"
   ]
  },
  {
   "cell_type": "markdown",
   "id": "f9715aae-f5e3-4e17-b2cb-2c21a23c6d0a",
   "metadata": {},
   "source": [
    "Running RNN Model "
   ]
  },
  {
   "cell_type": "code",
   "execution_count": null,
   "id": "84506b7d-2e02-4f57-9a7f-c0c6529ad6ea",
   "metadata": {},
   "outputs": [],
   "source": []
  },
  {
   "cell_type": "code",
   "execution_count": 121,
   "id": "20de1fd5-45a3-4b38-8c33-aec92edd25f1",
   "metadata": {},
   "outputs": [],
   "source": [
    "def create_date_features(df):\n",
    "    sales_train_df['month'] = sales_train_df.date.dt.month\n",
    "    sales_train_df['day_of_month'] = sales_train_df.date.dt.day\n",
    "    sales_train_df['day_of_year'] = sales_train_df.date.dt.dayofyear\n",
    "    sales_train_df['week_of_year'] = sales_train_df.date.dt.isocalendar\n",
    "    sales_train_df['day_of_week'] = sales_train_df.date.dt.dayofweek + 1\n",
    "    sales_train_df['year'] = sales_train_df.date.dt.year\n",
    "    sales_train_df[\"is_wknd\"] = sales_train_df.date.dt.weekday // 4\n",
    "    sales_train_df[\"quarter\"] = sales_train_df.date.dt.quarter\n",
    "    sales_train_df['is_month_start'] = sales_train_df.date.dt.is_month_start.astype(int)\n",
    "    sales_train_df['is_month_end'] = sales_train_df.date.dt.is_month_end.astype(int)\n",
    "    sales_train_df['is_quarter_start'] = sales_train_df.date.dt.is_quarter_start.astype(int)\n",
    "    sales_train_df['is_quarter_end'] = sales_train_df.date.dt.is_quarter_end.astype(int)\n",
    "    sales_train_df['is_year_start'] = sales_train_df.date.dt.is_year_start.astype(int)\n",
    "    sales_train_df['is_year_end'] = sales_train_df.date.dt.is_year_end.astype(int)\n",
    "\n",
    "sales_train_df_features = create_date_features(sales_train_df)"
   ]
  },
  {
   "cell_type": "code",
   "execution_count": 122,
   "id": "212107c0-68df-4322-b95e-de927382ca3c",
   "metadata": {},
   "outputs": [],
   "source": [
    "sales_train_df_features"
   ]
  },
  {
   "cell_type": "code",
   "execution_count": 68,
   "id": "01854c58-92a0-4d00-b528-bc10c836556f",
   "metadata": {},
   "outputs": [
    {
     "data": {
      "text/plain": [
       "array([[6, 1258.2, 3761, 1.0]], dtype=object)"
      ]
     },
     "execution_count": 68,
     "metadata": {},
     "output_type": "execute_result"
    }
   ],
   "source": [
    "list_seq[45]"
   ]
  },
  {
   "cell_type": "code",
   "execution_count": 64,
   "id": "3061a7f0-3ebf-4b66-94dc-6cfebe9132f3",
   "metadata": {},
   "outputs": [
    {
     "data": {
      "text/plain": [
       "(4,)"
      ]
     },
     "execution_count": 64,
     "metadata": {},
     "output_type": "execute_result"
    }
   ],
   "source": [
    "np.shape(list_seq[45])"
   ]
  },
  {
   "cell_type": "code",
   "execution_count": 72,
   "id": "a4a9a5c0-6bda-4661-9d9a-0e4e70a61165",
   "metadata": {},
   "outputs": [
    {
     "data": {
      "text/plain": [
       "array([[[    0,     0,     0,     0],\n",
       "        [    0,     0,     0,     0],\n",
       "        [    0,     0,     0,     0],\n",
       "        ...,\n",
       "        [   33,   999,  7007,     1],\n",
       "        [   33,  2199,  7135,     1],\n",
       "        [   33,  1999,  3713,     1]],\n",
       "\n",
       "       [[    0,   347, 17241,     1],\n",
       "        [    0,   149, 21552,     1],\n",
       "        [    0,   399, 21424,     1],\n",
       "        ...,\n",
       "        [   33,   399, 17581,     2],\n",
       "        [   33,   499,  8735,     1],\n",
       "        [   33,   149,  8754,     1]],\n",
       "\n",
       "       [[    0,     0,     0,     0],\n",
       "        [    0,     0,     0,     0],\n",
       "        [    0,     0,     0,     0],\n",
       "        ...,\n",
       "        [   33,   299, 13159,     1],\n",
       "        [   33,   199, 19985,     2],\n",
       "        [   33,   599,  6710,     1]],\n",
       "\n",
       "       ...,\n",
       "\n",
       "       [[    0,     0,     0,     0],\n",
       "        [    0,     0,     0,     0],\n",
       "        [    0,     0,     0,     0],\n",
       "        ...,\n",
       "        [   33,  4990,  8454,     1],\n",
       "        [   33,  1190,  7933,     1],\n",
       "        [   33,  2990,  8452,     2]],\n",
       "\n",
       "       [[    0,     0,     0,     0],\n",
       "        [    0,     0,     0,     0],\n",
       "        [    0,     0,     0,     0],\n",
       "        ...,\n",
       "        [   33,   299, 14958,     1],\n",
       "        [   33,   539, 13300,     1],\n",
       "        [   33,   429, 13294,     2]],\n",
       "\n",
       "       [[    0,     0,     0,     0],\n",
       "        [    0,     0,     0,     0],\n",
       "        [    0,     0,     0,     0],\n",
       "        ...,\n",
       "        [   32,  1300,  9246,    10],\n",
       "        [   32,  1700,  9250,    38],\n",
       "        [   32,  1500,  9254,    12]]], dtype=int32)"
      ]
     },
     "execution_count": 72,
     "metadata": {},
     "output_type": "execute_result"
    }
   ],
   "source": [
    "X_pad = pad_sequences(X) \n",
    "X_pad"
   ]
  },
  {
   "cell_type": "code",
   "execution_count": 90,
   "id": "a6d86cf4-88a0-4f33-8dc7-398800a8feac",
   "metadata": {},
   "outputs": [
    {
     "data": {
      "text/plain": [
       "(55, 62235, 4)"
      ]
     },
     "execution_count": 90,
     "metadata": {},
     "output_type": "execute_result"
    }
   ],
   "source": [
    "X_pad.shape"
   ]
  },
  {
   "cell_type": "code",
   "execution_count": null,
   "id": "a36f0b5b-1fc1-492f-8e44-e0dbcbd3f9c5",
   "metadata": {},
   "outputs": [],
   "source": []
  },
  {
   "cell_type": "code",
   "execution_count": 102,
   "id": "a83e2356-93b6-4dee-9f65-a36e1b38a54b",
   "metadata": {},
   "outputs": [],
   "source": [
    "import random"
   ]
  },
  {
   "cell_type": "code",
   "execution_count": 119,
   "id": "5dd90d61-291b-46aa-9803-f14fafc12f43",
   "metadata": {},
   "outputs": [
    {
     "ename": "ValueError",
     "evalue": "Sample larger than population or is negative",
     "output_type": "error",
     "traceback": [
      "\u001b[0;31m---------------------------------------------------------------------------\u001b[0m",
      "\u001b[0;31mValueError\u001b[0m                                Traceback (most recent call last)",
      "Cell \u001b[0;32mIn [119], line 1\u001b[0m\n\u001b[0;32m----> 1\u001b[0m res \u001b[38;5;241m=\u001b[39m \u001b[43mrandom\u001b[49m\u001b[38;5;241;43m.\u001b[39;49m\u001b[43msample\u001b[49m\u001b[43m(\u001b[49m\u001b[38;5;28;43mrange\u001b[39;49m\u001b[43m(\u001b[49m\u001b[38;5;241;43m1\u001b[39;49m\u001b[43m,\u001b[49m\u001b[43m \u001b[49m\u001b[38;5;241;43m2\u001b[39;49m\u001b[43m)\u001b[49m\u001b[43m,\u001b[49m\u001b[43m \u001b[49m\u001b[38;5;241;43m55\u001b[39;49m\u001b[43m)\u001b[49m\n",
      "File \u001b[0;32m~/.pyenv/versions/3.8.12/lib/python3.8/random.py:363\u001b[0m, in \u001b[0;36mRandom.sample\u001b[0;34m(self, population, k)\u001b[0m\n\u001b[1;32m    361\u001b[0m n \u001b[38;5;241m=\u001b[39m \u001b[38;5;28mlen\u001b[39m(population)\n\u001b[1;32m    362\u001b[0m \u001b[38;5;28;01mif\u001b[39;00m \u001b[38;5;129;01mnot\u001b[39;00m \u001b[38;5;241m0\u001b[39m \u001b[38;5;241m<\u001b[39m\u001b[38;5;241m=\u001b[39m k \u001b[38;5;241m<\u001b[39m\u001b[38;5;241m=\u001b[39m n:\n\u001b[0;32m--> 363\u001b[0m     \u001b[38;5;28;01mraise\u001b[39;00m \u001b[38;5;167;01mValueError\u001b[39;00m(\u001b[38;5;124m\"\u001b[39m\u001b[38;5;124mSample larger than population or is negative\u001b[39m\u001b[38;5;124m\"\u001b[39m)\n\u001b[1;32m    364\u001b[0m result \u001b[38;5;241m=\u001b[39m [\u001b[38;5;28;01mNone\u001b[39;00m] \u001b[38;5;241m*\u001b[39m k\n\u001b[1;32m    365\u001b[0m setsize \u001b[38;5;241m=\u001b[39m \u001b[38;5;241m21\u001b[39m        \u001b[38;5;66;03m# size of a small set minus size of an empty list\u001b[39;00m\n",
      "\u001b[0;31mValueError\u001b[0m: Sample larger than population or is negative"
     ]
    }
   ],
   "source": [
    "res = random.sample(range(1, 2), 55)"
   ]
  },
  {
   "cell_type": "code",
   "execution_count": 109,
   "id": "2a5dc845-8caf-478e-99ee-662765de5a79",
   "metadata": {},
   "outputs": [],
   "source": [
    "y = np.array(res).astype(np.float32)"
   ]
  },
  {
   "cell_type": "code",
   "execution_count": 110,
   "id": "d55ec828-fab6-4760-a924-0477997de682",
   "metadata": {},
   "outputs": [
    {
     "data": {
      "text/plain": [
       "(55,)"
      ]
     },
     "execution_count": 110,
     "metadata": {},
     "output_type": "execute_result"
    }
   ],
   "source": [
    "y.shape"
   ]
  },
  {
   "cell_type": "code",
   "execution_count": 117,
   "id": "1ed9bb5d-88bc-4fa9-8378-dafe9d64250a",
   "metadata": {},
   "outputs": [
    {
     "name": "stdout",
     "output_type": "stream",
     "text": [
      "Epoch 1/10\n",
      "1/1 [==============================] - 15s 15s/step - loss: 3193.6292\n",
      "Epoch 2/10\n",
      "1/1 [==============================] - 14s 14s/step - loss: 3192.7246\n",
      "Epoch 3/10\n",
      "1/1 [==============================] - 12s 12s/step - loss: 3192.0696\n",
      "Epoch 4/10\n",
      "1/1 [==============================] - 12s 12s/step - loss: 3191.5210\n",
      "Epoch 5/10\n",
      "1/1 [==============================] - 13s 13s/step - loss: 3191.0334\n",
      "Epoch 6/10\n",
      "1/1 [==============================] - 13s 13s/step - loss: 3190.5872\n",
      "Epoch 7/10\n",
      "1/1 [==============================] - 13s 13s/step - loss: 3190.1702\n",
      "Epoch 8/10\n",
      "1/1 [==============================] - 12s 12s/step - loss: 3189.7747\n",
      "Epoch 9/10\n",
      "1/1 [==============================] - 13s 13s/step - loss: 3189.3965\n",
      "Epoch 10/10\n",
      "1/1 [==============================] - 15s 15s/step - loss: 3189.0317\n"
     ]
    },
    {
     "data": {
      "text/plain": [
       "array([[2.1715512],\n",
       "       [2.1715512],\n",
       "       [2.1715512],\n",
       "       [2.1715512],\n",
       "       [2.1715512],\n",
       "       [2.1715512],\n",
       "       [2.1715512],\n",
       "       [2.1715512],\n",
       "       [2.1715512],\n",
       "       [2.1715512],\n",
       "       [2.1715512],\n",
       "       [2.1715512],\n",
       "       [2.1715512],\n",
       "       [2.1715512],\n",
       "       [2.1715512],\n",
       "       [2.1715512],\n",
       "       [2.1715512],\n",
       "       [2.1715512],\n",
       "       [2.1715512],\n",
       "       [2.1715512],\n",
       "       [2.1715512],\n",
       "       [2.1715512],\n",
       "       [2.1715512],\n",
       "       [2.1715512],\n",
       "       [2.1715512],\n",
       "       [2.1715512],\n",
       "       [2.1715512],\n",
       "       [2.1715512],\n",
       "       [2.1715512],\n",
       "       [2.1715512],\n",
       "       [2.1715512],\n",
       "       [2.1715512],\n",
       "       [2.1715512],\n",
       "       [2.1715512],\n",
       "       [2.1715512],\n",
       "       [2.1715512],\n",
       "       [2.1715512],\n",
       "       [2.1715512],\n",
       "       [2.1715512],\n",
       "       [2.1715512],\n",
       "       [2.1715512],\n",
       "       [2.1715512],\n",
       "       [2.1715512],\n",
       "       [2.1715512],\n",
       "       [2.1715512],\n",
       "       [2.1715512],\n",
       "       [2.1715512],\n",
       "       [2.1715512],\n",
       "       [2.1715512],\n",
       "       [2.1715512],\n",
       "       [2.1715512],\n",
       "       [2.1715512],\n",
       "       [2.1715512],\n",
       "       [2.1715512],\n",
       "       [2.1715512]], dtype=float32)"
      ]
     },
     "execution_count": 117,
     "metadata": {},
     "output_type": "execute_result"
    }
   ],
   "source": [
    "model = Sequential()\n",
    "model.add(layers.SimpleRNN(units=2, activation='tanh', input_shape=(62235,4)))\n",
    "model.add(layers.Dense(1, activation=\"linear\"))\n",
    "\n",
    "# The compilation\n",
    "model.compile(loss='mse', \n",
    "              optimizer='rmsprop')  \n",
    "# The fit\n",
    "model.fit(X_pad, y,\n",
    "         batch_size=100,\n",
    "         epochs=10)\n",
    "\n",
    "# The prediction (one per sequence/city)\n",
    "model.predict(X_pad)"
   ]
  },
  {
   "cell_type": "code",
   "execution_count": null,
   "id": "3aa6a613-1dc7-4095-8172-f689a0dd5e3e",
   "metadata": {},
   "outputs": [],
   "source": []
  },
  {
   "cell_type": "code",
   "execution_count": null,
   "id": "df549036-d6ff-415a-a8d6-c4547f795844",
   "metadata": {},
   "outputs": [],
   "source": []
  },
  {
   "cell_type": "code",
   "execution_count": null,
   "id": "24542e23-c711-4294-907b-665c6bde194e",
   "metadata": {},
   "outputs": [],
   "source": []
  },
  {
   "cell_type": "code",
   "execution_count": 77,
   "id": "856b0753-550e-4f3e-8494-1e612fa2499c",
   "metadata": {},
   "outputs": [],
   "source": [
    "# date_block_num: 34\n",
    "# shop_id: 60\n",
    "# item_id: 21807"
   ]
  },
  {
   "cell_type": "code",
   "execution_count": null,
   "id": "8ab63345-0c4b-434f-b134-4d03407842e7",
   "metadata": {},
   "outputs": [],
   "source": [
    "date_block_num, shop_id\n",
    "0\n",
    "1\n",
    "2\n",
    "3\n",
    "4\n",
    "5\n",
    "6\n",
    "7"
   ]
  }
 ],
 "metadata": {
  "kernelspec": {
   "display_name": "Python 3 (ipykernel)",
   "language": "python",
   "name": "python3"
  },
  "language_info": {
   "codemirror_mode": {
    "name": "ipython",
    "version": 3
   },
   "file_extension": ".py",
   "mimetype": "text/x-python",
   "name": "python",
   "nbconvert_exporter": "python",
   "pygments_lexer": "ipython3",
   "version": "3.8.12"
  }
 },
 "nbformat": 4,
 "nbformat_minor": 5
}
