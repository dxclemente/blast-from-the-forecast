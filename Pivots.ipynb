{
 "cells": [
  {
   "cell_type": "code",
   "execution_count": 1,
   "id": "a1f2e12e",
   "metadata": {
    "ExecuteTime": {
     "end_time": "2022-11-23T11:06:26.668813Z",
     "start_time": "2022-11-23T11:06:25.159553Z"
    },
    "scrolled": true
   },
   "outputs": [
    {
     "data": {
      "application/vnd.jupyter.widget-view+json": {
       "model_id": "06239458763748aaa13058c475ac5165",
       "version_major": 2,
       "version_minor": 0
      },
      "text/plain": [
       "MitoWidget(analysis_data_json='{\"analysisName\": \"id-tbcfpofsoh\", \"analysisToReplay\": {\"analysisName\": \"id-aldd…"
      ]
     },
     "metadata": {},
     "output_type": "display_data"
    }
   ],
   "source": [
    "import mitosheet\n",
    "mitosheet.sheet(analysis_to_replay=\"id-alddmwjqfv\")"
   ]
  },
  {
   "cell_type": "code",
   "execution_count": 3,
   "id": "e5c824f5",
   "metadata": {},
   "outputs": [],
   "source": [
    "from mitosheet import *; register_analysis(\"id-alddmwjqfv\");\n",
    "    \n",
    "# Imported sales_train.csv\n",
    "import pandas as pd\n",
    "sales_train = pd.read_csv(r'/Users/eduardocampos/code/dxclemente/blast-from-the-forecast/raw_data/sales_train.csv')\n",
    "\n",
    "# Imported item_categories.csv\n",
    "import pandas as pd\n",
    "item_categories = pd.read_csv(r'/Users/eduardocampos/code/dxclemente/blast-from-the-forecast/raw_data/item_categories.csv')\n",
    "\n",
    "# Imported items.csv\n",
    "import pandas as pd\n",
    "items = pd.read_csv(r'/Users/eduardocampos/code/dxclemente/blast-from-the-forecast/raw_data/items.csv')\n",
    "\n",
    "# Pivoted into sales_train\n",
    "tmp_df = sales_train[['date_block_num', 'item_cnt_day', 'shop_id']]\n",
    "pivot_table = tmp_df.pivot_table(\n",
    "    index=['date_block_num'],\n",
    "    columns=['shop_id'],\n",
    "    values=['item_cnt_day'],\n",
    "    aggfunc={'item_cnt_day': ['count']}\n",
    ")\n",
    "pivot_table = pivot_table.set_axis([flatten_column_header(col) for col in pivot_table.keys()], axis=1)\n",
    "sales_train_pivot = pivot_table.reset_index()\n",
    "\n",
    "# Pivoted into sales_train\n",
    "tmp_df = sales_train[['date_block_num', 'item_cnt_day', 'item_id']]\n",
    "pivot_table = tmp_df.pivot_table(\n",
    "    index=['date_block_num'],\n",
    "    columns=['item_id'],\n",
    "    values=['item_cnt_day'],\n",
    "    aggfunc={'item_cnt_day': ['sum']}\n",
    ")\n",
    "pivot_table = pivot_table.set_axis([flatten_column_header(col) for col in pivot_table.keys()], axis=1)\n",
    "sales_train_pivot_1 = pivot_table.reset_index()\n"
   ]
  },
  {
   "cell_type": "code",
   "execution_count": 4,
   "id": "00b6be8a-099a-42a2-873e-ece91b2d38e7",
   "metadata": {},
   "outputs": [],
   "source": [
    "df = pd.merge(sales_train,items, on = 'item_id', how = 'inner')\n"
   ]
  },
  {
   "cell_type": "code",
   "execution_count": null,
   "id": "2eafc289-b92e-418a-9f6c-e8499fbd0be7",
   "metadata": {},
   "outputs": [],
   "source": [
    "df.head()"
   ]
  },
  {
   "cell_type": "code",
   "execution_count": 6,
   "id": "90aa6942-f9fd-4b50-ab29-e95378c53684",
   "metadata": {},
   "outputs": [
    {
     "data": {
      "application/vnd.jupyter.widget-view+json": {
       "model_id": "999b7b9d7c7a47f09973e3e6534bdc81",
       "version_major": 2,
       "version_minor": 0
      },
      "text/plain": [
       "MitoWidget(analysis_data_json='{\"analysisName\": \"id-gufdfdcedx\", \"analysisToReplay\": null, \"code\": [], \"stepSu…"
      ]
     },
     "metadata": {},
     "output_type": "display_data"
    }
   ],
   "source": [
    "import mitosheet\n",
    "mitosheet.sheet(df, analysis_to_replay=\"id-gufdfdcedx\")"
   ]
  },
  {
   "cell_type": "code",
   "execution_count": null,
   "id": "116e7126-abdd-49b1-85ac-d4baf675026a",
   "metadata": {},
   "outputs": [],
   "source": [
    "from mitosheet import *; register_analysis(\"id-gufdfdcedx\");\n",
    "    \n",
    "# Pivoted into df\n",
    "tmp_df = df[['item_category_id', 'item_cnt_day', 'date_block_num']]\n",
    "pivot_table = tmp_df.pivot_table(\n",
    "    index=['date_block_num'],\n",
    "    columns=['item_category_id'],\n",
    "    values=['item_cnt_day'],\n",
    "    aggfunc={'item_cnt_day': ['sum']}\n",
    ")\n",
    "pivot_table = pivot_table.set_axis([flatten_column_header(col) for col in pivot_table.keys()], axis=1)\n",
    "df_pivot = pivot_table.reset_index()\n",
    "\n",
    "# Sorted date in ascending order\n",
    "df = df.sort_values(by='date', ascending=True, na_position='first')\n",
    "\n",
    "# Sorted item_category_id in ascending order\n",
    "df = df.sort_values(by='item_category_id', ascending=True, na_position='first')\n",
    "\n",
    "# Pivoted into df\n",
    "tmp_df = df[['item_cnt_day', 'item_category_id', 'date_block_num']]\n",
    "pivot_table = tmp_df.pivot_table(\n",
    "    index=['item_category_id'],\n",
    "    columns=['date_block_num'],\n",
    "    values=['item_cnt_day'],\n",
    "    aggfunc={'item_cnt_day': ['sum']}\n",
    ")\n",
    "pivot_table = pivot_table.set_axis([flatten_column_header(col) for col in pivot_table.keys()], axis=1)\n",
    "df_pivot = pivot_table.reset_index()\n",
    "\n",
    "# Pivoted into df\n",
    "tmp_df = df[['item_category_id', 'item_cnt_day', 'date_block_num']]\n",
    "pivot_table = tmp_df.pivot_table(\n",
    "    index=['date_block_num'],\n",
    "    columns=['item_category_id'],\n",
    "    values=['item_cnt_day'],\n",
    "    aggfunc={'item_cnt_day': ['sum']}\n",
    ")\n",
    "pivot_table = pivot_table.set_axis([flatten_column_header(col) for col in pivot_table.keys()], axis=1)\n",
    "df_pivot = pivot_table.reset_index()\n",
    "\n",
    "# Changed date to dtype datetime\n",
    "import pandas as pd\n",
    "df['date'] = pd.to_datetime(df['date'], infer_datetime_format=True, errors='coerce')\n",
    "\n",
    "# Sorted date in ascending order\n",
    "df = df.sort_values(by='date', ascending=True, na_position='first')\n",
    "\n",
    "# Sorted shop_id in ascending order\n",
    "df = df.sort_values(by='shop_id', ascending=True, na_position='first')\n",
    "\n",
    "# Pivoted into df\n",
    "tmp_df = df[['shop_id', 'item_cnt_day', 'date_block_num']]\n",
    "pivot_table = tmp_df.pivot_table(\n",
    "    index=['date_block_num'],\n",
    "    columns=['shop_id'],\n",
    "    values=['item_cnt_day'],\n",
    "    aggfunc={'item_cnt_day': ['sum']}\n",
    ")\n",
    "pivot_table = pivot_table.set_axis([flatten_column_header(col) for col in pivot_table.keys()], axis=1)\n",
    "df_pivot_1 = pivot_table.reset_index()\n"
   ]
  }
 ],
 "metadata": {
  "kernelspec": {
   "display_name": "Python 3 (ipykernel)",
   "language": "python",
   "name": "python3"
  },
  "language_info": {
   "codemirror_mode": {
    "name": "ipython",
    "version": 3
   },
   "file_extension": ".py",
   "mimetype": "text/x-python",
   "name": "python",
   "nbconvert_exporter": "python",
   "pygments_lexer": "ipython3",
   "version": "3.8.12"
  },
  "toc": {
   "base_numbering": 1,
   "nav_menu": {},
   "number_sections": true,
   "sideBar": true,
   "skip_h1_title": false,
   "title_cell": "Table of Contents",
   "title_sidebar": "Contents",
   "toc_cell": false,
   "toc_position": {},
   "toc_section_display": true,
   "toc_window_display": false
  },
  "varInspector": {
   "cols": {
    "lenName": 16,
    "lenType": 16,
    "lenVar": 40
   },
   "kernels_config": {
    "python": {
     "delete_cmd_postfix": "",
     "delete_cmd_prefix": "del ",
     "library": "var_list.py",
     "varRefreshCmd": "print(var_dic_list())"
    },
    "r": {
     "delete_cmd_postfix": ") ",
     "delete_cmd_prefix": "rm(",
     "library": "var_list.r",
     "varRefreshCmd": "cat(var_dic_list()) "
    }
   },
   "types_to_exclude": [
    "module",
    "function",
    "builtin_function_or_method",
    "instance",
    "_Feature"
   ],
   "window_display": false
  }
 },
 "nbformat": 4,
 "nbformat_minor": 5
}
